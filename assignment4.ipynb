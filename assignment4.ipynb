{
 "cells": [
  {
   "cell_type": "markdown",
   "id": "524de456",
   "metadata": {},
   "source": [
    "# 1. What does an empty dictionary&#39;s code look like?"
   ]
  },
  {
   "cell_type": "markdown",
   "id": "f605b08c",
   "metadata": {},
   "source": [
    "An empty dictionary's code in Python looks like this:\n",
    "\n"
   ]
  },
  {
   "cell_type": "code",
   "execution_count": 3,
   "id": "f5b68765",
   "metadata": {},
   "outputs": [
    {
     "data": {
      "text/plain": [
       "{}"
      ]
     },
     "execution_count": 3,
     "metadata": {},
     "output_type": "execute_result"
    }
   ],
   "source": [
    "empty_dict = {}\n",
    "empty_dict"
   ]
  },
  {
   "cell_type": "markdown",
   "id": "4af63b5a",
   "metadata": {},
   "source": [
    "In this code, the variable empty_dict is assigned an empty dictionary using curly braces {}. This creates a dictionary with no key-value pairs, essentially making it empty.\n",
    "\n",
    "\n",
    "\n"
   ]
  },
  {
   "cell_type": "markdown",
   "id": "d91853c3",
   "metadata": {},
   "source": [
    "# 2. What is the value of a dictionary value with the key 'foo' and the value 42?"
   ]
  },
  {
   "cell_type": "markdown",
   "id": "a9299f51",
   "metadata": {},
   "source": [
    "In a dictionary with the key 'foo' and the value 42, the value associated with the key 'foo' is 42. So, if you were to access the value using the key 'foo', you would get 42. Here's how you might create and access this dictionary in Python:"
   ]
  },
  {
   "cell_type": "code",
   "execution_count": 5,
   "id": "aaf13e1d",
   "metadata": {},
   "outputs": [
    {
     "name": "stdout",
     "output_type": "stream",
     "text": [
      "42\n"
     ]
    }
   ],
   "source": [
    "my_dict = {'foo': 42}\n",
    "value = my_dict['foo']  \n",
    "print(value)"
   ]
  },
  {
   "cell_type": "markdown",
   "id": "a21cf2e4",
   "metadata": {},
   "source": [
    "# 3. What is the most significant distinction between a dictionary and a list?"
   ]
  },
  {
   "cell_type": "markdown",
   "id": "99943a94",
   "metadata": {},
   "source": [
    "The most significant distinction between a dictionary and a list is the way they store and organize data:\n",
    "\n",
    "Data Organization:\n",
    "\n",
    "Dictionary: A dictionary is an unordered collection of key-value pairs. Each key in the dictionary is unique, and it maps to a specific value. Dictionaries are useful for associating data with meaningful labels (keys) for efficient retrieval.\n",
    "\n",
    "List: A list is an ordered collection of elements. Elements in a list are stored in a specific sequence, and they are accessed by their position (index) in that sequence.\n",
    "\n",
    "\n",
    "Accessing Elements:\n",
    "\n",
    "Dictionary: You access elements in a dictionary using their keys. Instead of using an index as in a list, you provide the key to retrieve the corresponding value.\n",
    "\n",
    "List: Elements in a list are accessed using numerical indices, starting from 0 for the first element.\n",
    "\n",
    "\n",
    "Ordering:\n",
    "\n",
    "Dictionary: Dictionaries are inherently unordered. The order of key-value pairs is not guaranteed to be the same as when they were inserted.\n",
    "\n",
    "List: Lists maintain the order of elements as they were added. The first element added will have index 0, the second will have index 1, and so on.\n",
    "\n",
    "\n",
    "Mutability:\n",
    "\n",
    "Dictionary: Dictionaries are mutable, meaning you can change the values associated with existing keys, add new key-value pairs, or remove existing key-value pairs.\n",
    "\n",
    "List: Lists are also mutable. You can modify elements in a list, append or insert new elements, and remove elements."
   ]
  },
  {
   "cell_type": "markdown",
   "id": "4e4cc2ce",
   "metadata": {},
   "source": [
    "# 4. What happens if you try to access spam if spam is {bar: 100}?"
   ]
  },
  {
   "cell_type": "code",
   "execution_count": 6,
   "id": "ee267030",
   "metadata": {},
   "outputs": [
    {
     "ename": "KeyError",
     "evalue": "'foo'",
     "output_type": "error",
     "traceback": [
      "\u001b[1;31m---------------------------------------------------------------------------\u001b[0m",
      "\u001b[1;31mKeyError\u001b[0m                                  Traceback (most recent call last)",
      "Cell \u001b[1;32mIn[6], line 2\u001b[0m\n\u001b[0;32m      1\u001b[0m spam \u001b[38;5;241m=\u001b[39m { \u001b[38;5;124m'\u001b[39m\u001b[38;5;124mbar\u001b[39m\u001b[38;5;124m'\u001b[39m: \u001b[38;5;241m100\u001b[39m }\n\u001b[1;32m----> 2\u001b[0m value \u001b[38;5;241m=\u001b[39m spam[\u001b[38;5;124m'\u001b[39m\u001b[38;5;124mfoo\u001b[39m\u001b[38;5;124m'\u001b[39m]\n",
      "\u001b[1;31mKeyError\u001b[0m: 'foo'"
     ]
    }
   ],
   "source": [
    "spam = { 'bar': 100 }\n",
    "value = spam['foo'] \n"
   ]
  },
  {
   "cell_type": "markdown",
   "id": "7b8ab29d",
   "metadata": {},
   "source": [
    "spam is a dictionary with a single key-value pair where the key is 'bar' and the value is 100. When you try to access spam['foo'], Python will look for a key 'foo' in the dictionary, but since it doesn't exist, a KeyError will be raised. To avoid this error, make sure to access dictionary keys that actually exist in the dictionary."
   ]
  },
  {
   "cell_type": "markdown",
   "id": "839fcb5d",
   "metadata": {},
   "source": [
    "# 5. If a dictionary is stored in spam, what is the difference between the expressions 'cat' in spam and 'cat' in spam.keys()?"
   ]
  },
  {
   "cell_type": "markdown",
   "id": "0d9e1603",
   "metadata": {},
   "source": [
    "Both expressions, `'cat' in spam` and `'cat' in spam.keys()`, are used to check whether a key exists in the dictionary stored in the variable `spam`. However, there is a subtle difference between these two expressions in terms of how they work:\n",
    "\n",
    "1. `'cat' in spam`:\n",
    "   This expression checks if the key `'cat'` exists in the dictionary `spam`. It searches for the key directly within the dictionary's keys, and it returns a boolean value (`True` or `False`) indicating whether the key `'cat'` is present in the dictionary as a key.\n",
    "\n",
    "2. `'cat' in spam.keys()`:\n",
    "   This expression also checks if the key `'cat'` exists in the dictionary `spam`, but it does so explicitly by accessing the dictionary's keys using the `.keys()` method. It returns the same boolean value indicating whether the key `'cat'` is present in the dictionary's keys.\n",
    "\n",
    "Both expressions essentially achieve the same result, and either can be used to determine if a particular key exists in the dictionary. However, using `'cat' in spam` is slightly more concise and idiomatic since dictionaries are designed to efficiently perform key lookups. On the other hand, using `'cat' in spam.keys()` involves an extra method call, which might be slightly less efficient but still works perfectly fine."
   ]
  },
  {
   "cell_type": "markdown",
   "id": "2099c85a",
   "metadata": {},
   "source": [
    "# 6. If a dictionary is stored in spam, what is the difference between the expressions 'cat' in spam and 'cat' in spam.values()?"
   ]
  },
  {
   "cell_type": "markdown",
   "id": "9e0bbab5",
   "metadata": {},
   "source": [
    "The expressions 'cat' in spam and 'cat' in spam.values() have different purposes and outcomes when used to search for a value within a dictionary. Let's explore the differences between these two expressions:\n",
    "\n",
    "'cat' in spam:\n",
    "This expression checks if the string 'cat' exists as a key in the dictionary spam. It searches for the key directly within the dictionary's keys and returns a boolean value (True or False) indicating whether the key 'cat' is present in the dictionary.\n",
    "\n",
    "'cat' in spam.values():\n",
    "This expression checks if the string 'cat' exists as a value in the dictionary spam. It searches for the value 'cat' within all the values of the dictionary and returns a boolean value indicating whether the value 'cat' is present among the dictionary's values.\n",
    "\n",
    "To illustrate these concepts, let's consider an example:"
   ]
  },
  {
   "cell_type": "code",
   "execution_count": 11,
   "id": "978cf92a",
   "metadata": {},
   "outputs": [
    {
     "name": "stdout",
     "output_type": "stream",
     "text": [
      "False\n",
      "True\n"
     ]
    }
   ],
   "source": [
    "spam = { 'animal': 'cat', 'color': 'blue', 'food': 'apple' }\n",
    "print('cat' in spam) \n",
    "print('cat' in spam.values())"
   ]
  },
  {
   "cell_type": "markdown",
   "id": "b6b762ac",
   "metadata": {},
   "source": [
    "In this example, the dictionary spam has three key-value pairs. 'cat' is the value associated with the key 'animal'.\n",
    "\n",
    "'cat' in spam would return False because 'cat' is not a key in the dictionary.\n",
    "'cat' in spam.values() would return True because 'cat' is a value in the dictionary's values.\n",
    "In summary, the first expression checks for the presence of a specific key, while the second expression checks for the presence of a specific value within the dictionary."
   ]
  },
  {
   "cell_type": "markdown",
   "id": "3fce6237",
   "metadata": {},
   "source": [
    "# 7. What is a shortcut for the following code?if 'color' not in spam: spam['color'] = 'black'\n"
   ]
  },
  {
   "cell_type": "markdown",
   "id": "389ecc8c",
   "metadata": {},
   "source": [
    "You can use the `setdefault()` method to achieve the same result with a shorter code snippet. The `setdefault()` method allows you to set a default value for a key if the key is not already present in the dictionary. Here's how you can use it to achieve the same outcome as your provided code:\n",
    "\n",
    "\n"
   ]
  },
  {
   "cell_type": "code",
   "execution_count": 17,
   "id": "ea10b3e2",
   "metadata": {},
   "outputs": [
    {
     "data": {
      "text/plain": [
       "'blue'"
      ]
     },
     "execution_count": 17,
     "metadata": {},
     "output_type": "execute_result"
    }
   ],
   "source": [
    "spam.setdefault('color', 'black')\n"
   ]
  },
  {
   "cell_type": "markdown",
   "id": "03c7bfd9",
   "metadata": {},
   "source": [
    "In this line of code, if the key `'color'` is not already present in the `spam` dictionary, it will be added with the value `'black'`. If the key `'color'` is already present, the value associated with it remains unchanged. This is a concise way to add a key-value pair only if the key doesn't exist in the dictionary."
   ]
  },
  {
   "cell_type": "markdown",
   "id": "bc92ac61",
   "metadata": {},
   "source": [
    "# 8. How do you \"pretty print\" dictionary values using which module and function?"
   ]
  },
  {
   "cell_type": "markdown",
   "id": "9dc27268",
   "metadata": {},
   "source": [
    "To \"pretty print\" dictionary values in Python, you can use the pprint module, specifically the pprint() function. The pprint module provides a way to print data structures like dictionaries, lists, and other objects in a more human-readable and formatted way. It's particularly useful for printing nested or complex data structures.\n",
    "\n",
    "Here's how you can use the pprint() function to pretty print a dictionary:"
   ]
  },
  {
   "cell_type": "code",
   "execution_count": 22,
   "id": "e06398de",
   "metadata": {},
   "outputs": [
    {
     "name": "stdout",
     "output_type": "stream",
     "text": [
      "{'age': 30,\n",
      " 'city': 'New York',\n",
      " 'languages': ['Python', 'Java', 'JavaScript'],\n",
      " 'name': 'John'}\n"
     ]
    },
    {
     "data": {
      "text/plain": [
       "{'name': 'John',\n",
       " 'age': 30,\n",
       " 'city': 'New York',\n",
       " 'languages': ['Python', 'Java', 'JavaScript']}"
      ]
     },
     "execution_count": 22,
     "metadata": {},
     "output_type": "execute_result"
    }
   ],
   "source": [
    "import pprint\n",
    "\n",
    "my_dict = {\n",
    "    'name': 'John',\n",
    "    'age': 30,\n",
    "    'city': 'New York',\n",
    "    'languages': ['Python', 'Java', 'JavaScript']\n",
    "}\n",
    "\n",
    "pprint.pprint(my_dict)\n",
    "my_dict"
   ]
  },
  {
   "cell_type": "markdown",
   "id": "fa69bf2f",
   "metadata": {},
   "source": [
    "When you run this code, the dictionary my_dict will be printed in a nicely formatted and readable manner.\n",
    "\n",
    "Remember to import the pprint module before using the pprint() function. This function takes care of indentation, line breaks, and formatting to present the dictionary's contents in a way that is easier for humans to understand.\n",
    "\n",
    "\n",
    "\n",
    "\n"
   ]
  },
  {
   "cell_type": "code",
   "execution_count": null,
   "id": "ac9cda1d",
   "metadata": {},
   "outputs": [],
   "source": []
  }
 ],
 "metadata": {
  "kernelspec": {
   "display_name": "Python 3 (ipykernel)",
   "language": "python",
   "name": "python3"
  },
  "language_info": {
   "codemirror_mode": {
    "name": "ipython",
    "version": 3
   },
   "file_extension": ".py",
   "mimetype": "text/x-python",
   "name": "python",
   "nbconvert_exporter": "python",
   "pygments_lexer": "ipython3",
   "version": "3.11.4"
  }
 },
 "nbformat": 4,
 "nbformat_minor": 5
}
