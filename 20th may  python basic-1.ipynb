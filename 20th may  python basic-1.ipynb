{
 "cells": [
  {
   "cell_type": "markdown",
   "id": "6b1d3451",
   "metadata": {},
   "source": [
    "# Q.1. What are keywords in python? Using the keyword library, print all the python keywords."
   ]
  },
  {
   "cell_type": "markdown",
   "id": "eaeb57a0",
   "metadata": {},
   "source": [
    "In Python, keywords are reserved words that have special meanings and purposes within the language. These keywords cannot be used as identifiers (such as variable names or function names) because they are already predefined for specific purposes. They form the basic building blocks of Python syntax."
   ]
  },
  {
   "cell_type": "code",
   "execution_count": 1,
   "id": "c9b3a5ee",
   "metadata": {},
   "outputs": [
    {
     "name": "stdout",
     "output_type": "stream",
     "text": [
      "['False', 'None', 'True', 'and', 'as', 'assert', 'async', 'await', 'break', 'class', 'continue', 'def', 'del', 'elif', 'else', 'except', 'finally', 'for', 'from', 'global', 'if', 'import', 'in', 'is', 'lambda', 'nonlocal', 'not', 'or', 'pass', 'raise', 'return', 'try', 'while', 'with', 'yield']\n"
     ]
    }
   ],
   "source": [
    "import keyword\n",
    "\n",
    "all_keywords = keyword.kwlist\n",
    "print(all_keywords)\n"
   ]
  },
  {
   "cell_type": "markdown",
   "id": "8ee2ef8b",
   "metadata": {},
   "source": [
    "# Q.2. What are the rules to create variables in python?"
   ]
  },
  {
   "cell_type": "markdown",
   "id": "cdde992c",
   "metadata": {},
   "source": [
    "In Python, variables are used to store and manipulate data. There are some rules and conventions to follow when creating variables:\n",
    "\n",
    "1. **Variable Name Rules:**\n",
    "   - Variable names must start with a letter (a-z, A-Z) or an underscore (_).\n",
    "   - After the initial letter, variable names can consist of letters, digits (0-9), and underscores.\n",
    "   - Variable names are case-sensitive, meaning `myVar` and `myvar` are considered different variables.\n",
    "\n",
    "2. **Reserved Words:**\n",
    "   - You cannot use Python's reserved keywords as variable names. These are words that have special meanings in the language and are used for specific purposes. For example, you cannot use `if`, `else`, `while`, `for`, `def`, `class`, `import`, `return`, etc. as variable names.\n",
    "\n",
    "3. **Python Naming Conventions:**\n",
    "   - Python has some naming conventions to make your code more readable and consistent. While these conventions are not strict rules, they are widely followed by the Python community.\n",
    "   - Use lowercase letters for variable names, and separate words with underscores (`snake_case`). For example: `my_variable`, `user_name`.\n",
    "   - For constants, use uppercase letters and underscores (`UPPER_CASE_WITH_UNDERSCORES`). For example: `PI`, `MAX_VALUE`.\n",
    "   - Class names should use CamelCase (capitalizing the first letter of each word, including the first one). For example: `MyClass`, `EmployeeDetails`.\n",
    "   - Leading underscores indicate that a variable is intended for internal use within a module (not meant to be accessed from outside). For example: `_private_var`.\n",
    "\n",
    "4. **Avoid Using Single Underscore:**\n",
    "   - While using a single underscore as a variable name is allowed, it's often used to store the result of the last expression in a Python interactive session. For example: `_`, `_2`, `_result`.\n",
    "\n",
    "5. **Avoid Using Double Underscores at the Beginning:**\n",
    "   - Variables with names starting with double underscores (`__`) are used for name mangling in classes. It's generally a good practice to avoid using this pattern for your own variables.\n",
    "\n",
    "Remember that following these rules and conventions will make your code more readable and understandable by others, as well as by your future self."
   ]
  },
  {
   "cell_type": "markdown",
   "id": "4224847a",
   "metadata": {},
   "source": [
    "# Q.4. What will happen if a keyword is used as a variable name?"
   ]
  },
  {
   "cell_type": "markdown",
   "id": "c406edcc",
   "metadata": {},
   "source": [
    "If you use a keyword as a variable name in Python, it will result in a syntax error. Keywords are reserved words in the Python language that have special meanings and purposes. They are already predefined and cannot be used as identifiers (such as variable names, function names, or class names).\n",
    "\n",
    "Here's an example to illustrate what happens when you try to use a keyword as a variable name:"
   ]
  },
  {
   "cell_type": "code",
   "execution_count": 2,
   "id": "781dab94",
   "metadata": {},
   "outputs": [
    {
     "ename": "SyntaxError",
     "evalue": "invalid syntax (1334243736.py, line 1)",
     "output_type": "error",
     "traceback": [
      "\u001b[1;36m  Cell \u001b[1;32mIn[2], line 1\u001b[1;36m\u001b[0m\n\u001b[1;33m    if = 10\u001b[0m\n\u001b[1;37m       ^\u001b[0m\n\u001b[1;31mSyntaxError\u001b[0m\u001b[1;31m:\u001b[0m invalid syntax\n"
     ]
    }
   ],
   "source": [
    "if = 10  "
   ]
  },
  {
   "cell_type": "markdown",
   "id": "7a452beb",
   "metadata": {},
   "source": [
    "# Q.5. For what purpose def keyword is used?"
   ]
  },
  {
   "cell_type": "markdown",
   "id": "ca28ce10",
   "metadata": {},
   "source": [
    "The def keyword in Python is used to define a new function. Functions are blocks of code that perform a specific task and can be reused throughout your program. Defining functions helps you write modular and organized code, making it easier to manage, debug, and maintain.\n",
    "\n",
    "Here's the basic syntax of how the def keyword is used to define a function:"
   ]
  },
  {
   "cell_type": "code",
   "execution_count": 3,
   "id": "48951ad7",
   "metadata": {},
   "outputs": [],
   "source": [
    "def function_name(parameters):\n",
    "    # Function body\n",
    "    # Code to perform a specific task\n",
    "    return result  # Optional return statement\n"
   ]
  },
  {
   "cell_type": "markdown",
   "id": "0e8f6285",
   "metadata": {},
   "source": [
    "Here's what each part of the syntax means:\n",
    "\n",
    "def: This keyword is used to indicate that you are defining a new function.\n",
    "function_name: Choose a meaningful name for your function that describes its purpose.\n",
    "parameters: These are the inputs that the function takes. They are optional and can be used to pass data into the function.\n",
    "Function Body: This is where you write the code that defines what the function does. It can include any valid Python statements.\n",
    "return: If the function needs to return a value, you use the return statement to specify the value to be returned. If omitted, the function returns None.\n"
   ]
  },
  {
   "cell_type": "markdown",
   "id": "552ea78e",
   "metadata": {},
   "source": [
    "# Q.6. What is the operation of this special character ‘\\’?"
   ]
  },
  {
   "cell_type": "markdown",
   "id": "74598acb",
   "metadata": {},
   "source": [
    "The special character \\ in Python is known as the escape character. It is used to indicate that the character following it has a special meaning, and it's used to represent certain non-printable or special characters within strings and other contexts.\n",
    "\n",
    "Here are some common escape sequences that use the \\ character:\n",
    "\n",
    "Newline (\\n): Inserts a new line.\n",
    "Tab (\\t): Inserts a tab character.\n",
    "Backslash (\\\\): Inserts a literal backslash character.\n",
    "Single Quote (\\'): Inserts a single quote character within a single-quoted string.\n",
    "Double Quote (\\\"): Inserts a double quote character within a double-quoted string.\n",
    "Carriage Return (\\r): Moves the cursor to the beginning of the line.\n",
    "Backspace (\\b): Moves the cursor back one space (doesn't delete the character).\n",
    "Unicode Escape (\\u or \\U): Represents Unicode characters using their code points.\n",
    "Octal Escape (\\o, \\oo, \\ooo): Represents characters using octal values.\n",
    "Hexadecimal Escape (\\xhh): Represents characters using hexadecimal values."
   ]
  },
  {
   "cell_type": "markdown",
   "id": "d2142685",
   "metadata": {},
   "source": [
    "# Q.7. Give an example of the following conditions:\n",
    "(i) Homogeneous list\n",
    "(ii) Heterogeneous set\n",
    "(iii) Homogeneous tuple"
   ]
  },
  {
   "cell_type": "markdown",
   "id": "dfa619ea",
   "metadata": {},
   "source": [
    "\n",
    "(i) **Homogeneous List:**\n",
    "A homogeneous list is a list that contains elements of the same data type. Here's an example of a homogeneous list containing integers:\n",
    "\n",
    "```python\n",
    "int_list = [1, 2, 3, 4, 5]\n",
    "```\n",
    "\n",
    "In this example, all elements of the list are integers.\n",
    "\n",
    "(ii) **Heterogeneous Set:**\n",
    "A heterogeneous set is a set that contains elements of different data types. Sets are collections of unique elements, and they can hold different types of elements. Here's an example of a heterogeneous set:\n",
    "\n",
    "```python\n",
    "hetero_set = {1, 2.5, \"hello\", (1, 2, 3)}\n",
    "```\n",
    "\n",
    "In this example, the set contains an integer, a floating-point number, a string, and a tuple. They are all different data types.\n",
    "\n",
    "(iii) **Homogeneous Tuple:**\n",
    "A homogeneous tuple is a tuple that contains elements of the same data type. Tuples are similar to lists but are immutable (cannot be modified after creation). Here's an example of a homogeneous tuple containing strings:\n",
    "\n",
    "```python\n",
    "str_tuple = (\"apple\", \"banana\", \"cherry\", \"date\")\n",
    "```\n",
    "\n",
    "In this example, all elements of the tuple are strings.\n",
    "\n",
    "Remember, Python allows you to create collections (lists, sets, tuples) with a mix of data types (heterogeneous) or with elements of the same data type (homogeneous). The examples above showcase these concepts."
   ]
  },
  {
   "cell_type": "markdown",
   "id": "965ab566",
   "metadata": {},
   "source": [
    "# Q.8. Explain the mutable and immutable data types with proper explanation & examples."
   ]
  },
  {
   "cell_type": "markdown",
   "id": "9745d92b",
   "metadata": {},
   "source": [
    "Mutable and immutable are terms used to describe whether an object's value can be changed after it is created. In the context of programming, these terms are particularly relevant to data types in Python.\n",
    "\n",
    "**Mutable Data Types:**\n",
    "A mutable data type is one where the value or content of the object can be modified after it is created. This means you can change individual elements within the object without creating a new object. Lists and dictionaries are examples of mutable data types.\n",
    "\n",
    "Example of a mutable data type (list):\n",
    "\n",
    "\n",
    "\n",
    "**Immutable Data Types:**\n",
    "An immutable data type is one where the value or content of the object cannot be changed after it is created. If you need to modify the data, you create a new object. Tuples, strings, and numbers (integers, floats) are examples of immutable data types.\n",
    "\n",
    "Example of an immutable data type (tuple):\n",
    "```python\n",
    "immutable_tuple = (1, 2, 3)\n",
    "# immutable_tuple[1] = 4  # This line would result in an error\n",
    "```\n",
    "\n",
    "In the example above, trying to modify the second element of the tuple directly will result in a TypeError because tuples are immutable.\n",
    "\n",
    "Strings are another example of an immutable data type:\n",
    "```python\n",
    "string = \"Hello\"\n",
    "# string[0] = \"h\"  # This line would result in an error\n",
    "```\n",
    "\n",
    "To change the value of a string or a tuple, you create a new object with the desired changes.\n",
    "\n",
    "**Why Mutable vs. Immutable Matters:**\n",
    "Understanding mutable and immutable data types is important because it affects how you work with data and manage memory in your programs. Mutable types can be modified in-place, which might lead to unexpected changes if not handled carefully. Immutable types require creating new objects when changes are needed, which can be less efficient in terms of memory usage.\n",
    "\n",
    "In general, using immutable types can lead to safer and more predictable code, as you don't have to worry about accidental modifications. Mutable types are powerful but require careful handling to avoid unintended side effects."
   ]
  },
  {
   "cell_type": "markdown",
   "id": "8d9c4f3f",
   "metadata": {},
   "source": []
  },
  {
   "cell_type": "code",
   "execution_count": 5,
   "id": "e8e01235",
   "metadata": {},
   "outputs": [
    {
     "name": "stdout",
     "output_type": "stream",
     "text": [
      "[1, 4, 3]\n"
     ]
    }
   ],
   "source": [
    "mutable_list = [1, 2, 3]\n",
    "mutable_list[1] = 4\n",
    "print(mutable_list)  "
   ]
  },
  {
   "cell_type": "code",
   "execution_count": 7,
   "id": "471b314c",
   "metadata": {},
   "outputs": [
    {
     "ename": "TypeError",
     "evalue": "'tuple' object does not support item assignment",
     "output_type": "error",
     "traceback": [
      "\u001b[1;31m---------------------------------------------------------------------------\u001b[0m",
      "\u001b[1;31mTypeError\u001b[0m                                 Traceback (most recent call last)",
      "Cell \u001b[1;32mIn[7], line 2\u001b[0m\n\u001b[0;32m      1\u001b[0m immutable_tuple \u001b[38;5;241m=\u001b[39m (\u001b[38;5;241m1\u001b[39m, \u001b[38;5;241m2\u001b[39m, \u001b[38;5;241m3\u001b[39m)\n\u001b[1;32m----> 2\u001b[0m immutable_tuple[\u001b[38;5;241m1\u001b[39m] \u001b[38;5;241m=\u001b[39m \u001b[38;5;241m4\u001b[39m\n",
      "\u001b[1;31mTypeError\u001b[0m: 'tuple' object does not support item assignment"
     ]
    }
   ],
   "source": [
    "immutable_tuple = (1, 2, 3)\n",
    "immutable_tuple[1] = 4 "
   ]
  },
  {
   "cell_type": "markdown",
   "id": "f891b2a1",
   "metadata": {},
   "source": [
    "# Q.9. Write a code to create the given structure using only for loop.\n",
    "    *\n",
    "   ***\n",
    "  *****\n",
    " *******\n",
    "*********"
   ]
  },
  {
   "cell_type": "code",
   "execution_count": 10,
   "id": "2e1a2409",
   "metadata": {},
   "outputs": [
    {
     "name": "stdout",
     "output_type": "stream",
     "text": [
      "    *\n",
      "   ***\n",
      "  *****\n",
      " *******\n",
      "*********\n"
     ]
    }
   ],
   "source": [
    "rows = 5\n",
    "\n",
    "for i in range(1, rows + 1):\n",
    "    # Print spaces\n",
    "    for j in range(rows - i):\n",
    "        print(\" \", end=\"\")\n",
    "    \n",
    "    # Print stars\n",
    "    for k in range(2 * i - 1):\n",
    "        print(\"*\", end=\"\")\n",
    "    \n",
    "    # Move to the next line\n",
    "    print()\n"
   ]
  },
  {
   "cell_type": "markdown",
   "id": "6b42ca15",
   "metadata": {},
   "source": [
    "# Q.10. Write a code to create the given structure using while loop.\n",
    "|||||||||\n",
    " |||||||\n",
    "  |||||\n",
    "   |||\n",
    "    |"
   ]
  },
  {
   "cell_type": "code",
   "execution_count": 12,
   "id": "ad5515bd",
   "metadata": {},
   "outputs": [
    {
     "name": "stdout",
     "output_type": "stream",
     "text": [
      "|||||||||\n",
      " |||||||\n",
      "  |||||\n",
      "   |||\n",
      "    |\n"
     ]
    }
   ],
   "source": [
    "rows = 5\n",
    "i = 0\n",
    "\n",
    "while i < rows:\n",
    "    # Print spaces\n",
    "    j = 0\n",
    "    while j < i:\n",
    "        print(\" \", end=\"\")\n",
    "        j += 1\n",
    "    \n",
    "    # Print bars\n",
    "    k = 0\n",
    "    while k < 2 * (rows - i) - 1:\n",
    "        print(\"|\", end=\"\")\n",
    "        k += 1\n",
    "    \n",
    "    # Move to the next line\n",
    "    print()\n",
    "    i += 1\n"
   ]
  }
 ],
 "metadata": {
  "kernelspec": {
   "display_name": "Python 3 (ipykernel)",
   "language": "python",
   "name": "python3"
  },
  "language_info": {
   "codemirror_mode": {
    "name": "ipython",
    "version": 3
   },
   "file_extension": ".py",
   "mimetype": "text/x-python",
   "name": "python",
   "nbconvert_exporter": "python",
   "pygments_lexer": "ipython3",
   "version": "3.11.4"
  }
 },
 "nbformat": 4,
 "nbformat_minor": 5
}
