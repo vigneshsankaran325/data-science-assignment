{
 "cells": [
  {
   "cell_type": "markdown",
   "id": "ec75c317",
   "metadata": {},
   "source": [
    "# 1. What is a lambda function in Python, and how does it differ from a regular function?"
   ]
  },
  {
   "cell_type": "markdown",
   "id": "f7bfc0b6",
   "metadata": {},
   "source": [
    "# A lambda function in Python is an anonymous or nameless function that is defined using the lambda keyword. Lambda functions are also called lambda expressions. Unlike regular functions defined with the def keyword, lambda functions can have only one expression and are typically used for short, simple operations. Here's the basic syntax of a lambda function:\n",
    "python\n",
    "\n",
    "lambda arguments: expression\n",
    "Key characteristics of lambda functions and how they differ from regular functions:\n",
    "\n",
    "Anonymous Functions: Lambda functions are anonymous, meaning they don't have a name. They are defined in place and are often used where a small, one-time function is needed.\n",
    "\n",
    "Single Expression: Lambda functions can contain only a single expression, which is evaluated and returned when the lambda function is called. This makes them concise and suitable for short operations.\n",
    "\n",
    "No Statements: Lambda functions cannot contain statements like if, for, or while. They are limited to a single expression. In contrast, regular functions can contain multiple statements and have a more complex structure.\n",
    "\n",
    "Conciseness: Lambda functions are concise and typically used for simple tasks. Regular functions can be more versatile and are used for more complex tasks or when reusability and readability are important.\n",
    "\n",
    "Usage: Lambda functions are often used as arguments to higher-order functions like map(), filter(), and sorted(), where a simple function is required temporarily. Regular functions are suitable for general-purpose functions, reusable code, and complex logic.\n",
    "\n",
    "Example illustrating a lambda function and a regular function:\n",
    "\n",
    "python\n",
    "Copy code\n",
    "# Lambda function\n",
    "add = lambda x, y: x + y\n",
    "result1 = add(3, 5)  # Result: 8\n",
    "\n",
    "# Regular function\n",
    "def add_regular(x, y):\n",
    "    return x + y\n",
    "\n",
    "result2 = add_regular(3, 5)  # Result: 8\n",
    "In the above example, both the lambda function and the regular function add_regular perform the same operation of adding two numbers. The lambda function is concise and defined inline, while the regular function has a more structured definition.\n",
    "\n",
    "In summary, lambda functions are useful for small, one-time operations where brevity is important. Regular functions are more versatile, can contain multiple statements, and are typically used for more complex logic or when code needs to be reused in multiple places.\n",
    "\n",
    "\n",
    "\n",
    "\n",
    "\n"
   ]
  },
  {
   "cell_type": "markdown",
   "id": "2e9d0462",
   "metadata": {},
   "source": [
    "# 2. Can a lambda function in Python have multiple arguments? If yes, how can you define and use them?"
   ]
  },
  {
   "cell_type": "markdown",
   "id": "4946cd58",
   "metadata": {},
   "source": [
    "\n",
    "Yes, a lambda function in Python can have multiple arguments. You can define and use multiple arguments in a lambda function by specifying them in the lambda's argument list and separating them with commas. Here's the syntax for a lambda function with multiple arguments:\n",
    "\n",
    "lambda arg1, arg2, arg3, ...: expression\n",
    "Each argument is followed by a comma, and the expression defines what the lambda function will return based on those arguments. Here's an example of a lambda function with multiple arguments:\n",
    "python"
   ]
  },
  {
   "cell_type": "code",
   "execution_count": 3,
   "id": "68a6f468",
   "metadata": {},
   "outputs": [
    {
     "name": "stdout",
     "output_type": "stream",
     "text": [
      "9\n"
     ]
    }
   ],
   "source": [
    "# Lambda function with multiple arguments\n",
    "add = lambda x, y, z: x + y + z\n",
    "\n",
    "result = add(2, 3, 4)  # Calls the lambda function with three arguments\n",
    "print(result)  # Output: 9\n"
   ]
  },
  {
   "cell_type": "markdown",
   "id": "200cd937",
   "metadata": {},
   "source": [
    "# 3. How are lambda functions typically used in Python? Provide an example use case."
   ]
  },
  {
   "cell_type": "markdown",
   "id": "23c4f18a",
   "metadata": {},
   "source": [
    "Sorting: Lambda functions are commonly used with the sorted() function to customize the sorting order of a list of objects."
   ]
  },
  {
   "cell_type": "code",
   "execution_count": 4,
   "id": "567ba440",
   "metadata": {},
   "outputs": [
    {
     "name": "stdout",
     "output_type": "stream",
     "text": [
      "[{'name': 'Bob', 'score': 92}, {'name': 'Alice', 'score': 85}, {'name': 'Charlie', 'score': 78}]\n"
     ]
    }
   ],
   "source": [
    "students = [\n",
    "    {'name': 'Alice', 'score': 85},\n",
    "    {'name': 'Bob', 'score': 92},\n",
    "    {'name': 'Charlie', 'score': 78}\n",
    "]\n",
    "\n",
    "# Sort students by their scores in descending order\n",
    "sorted_students = sorted(students, key=lambda student: student['score'], reverse=True)\n",
    "print(sorted_students)\n"
   ]
  },
  {
   "cell_type": "markdown",
   "id": "22c1324a",
   "metadata": {},
   "source": [
    "# Filtering: Lambda functions are used with the filter() function to filter elements from an iterable based on a condition."
   ]
  },
  {
   "cell_type": "code",
   "execution_count": 5,
   "id": "67c16328",
   "metadata": {},
   "outputs": [
    {
     "name": "stdout",
     "output_type": "stream",
     "text": [
      "[2, 4, 6]\n"
     ]
    }
   ],
   "source": [
    "numbers = [1, 2, 3, 4, 5, 6]\n",
    "\n",
    "# Filter even numbers from the list\n",
    "even_numbers = list(filter(lambda x: x % 2 == 0, numbers))\n",
    "print(even_numbers)\n"
   ]
  },
  {
   "cell_type": "markdown",
   "id": "6fddbac3",
   "metadata": {},
   "source": [
    "Mapping: Lambda functions can be used with the map() function to apply a function to each element of an iterable."
   ]
  },
  {
   "cell_type": "code",
   "execution_count": 6,
   "id": "07b86d30",
   "metadata": {},
   "outputs": [
    {
     "name": "stdout",
     "output_type": "stream",
     "text": [
      "[1, 4, 9, 16, 25]\n"
     ]
    }
   ],
   "source": [
    "numbers = [1, 2, 3, 4, 5]\n",
    "\n",
    "# Square each number in the list\n",
    "squared_numbers = list(map(lambda x: x ** 2, numbers))\n",
    "print(squared_numbers)\n"
   ]
  },
  {
   "cell_type": "markdown",
   "id": "62774879",
   "metadata": {},
   "source": [
    "Key Functions: Lambda functions are used as key functions for custom sorting or extracting specific attributes."
   ]
  },
  {
   "cell_type": "code",
   "execution_count": 7,
   "id": "39c0da19",
   "metadata": {},
   "outputs": [
    {
     "name": "stdout",
     "output_type": "stream",
     "text": [
      "[{'name': 'Tablet', 'price': 300}, {'name': 'Phone', 'price': 600}, {'name': 'Laptop', 'price': 800}]\n"
     ]
    }
   ],
   "source": [
    "products = [\n",
    "    {'name': 'Laptop', 'price': 800},\n",
    "    {'name': 'Phone', 'price': 600},\n",
    "    {'name': 'Tablet', 'price': 300}\n",
    "]\n",
    "\n",
    "# Sort products by price in ascending order\n",
    "sorted_products = sorted(products, key=lambda product: product['price'])\n",
    "print(sorted_products)\n"
   ]
  },
  {
   "cell_type": "markdown",
   "id": "514671ef",
   "metadata": {},
   "source": [
    "Simple Operations: Lambda functions can be used for simple mathematical or string operations."
   ]
  },
  {
   "cell_type": "code",
   "execution_count": 8,
   "id": "fffb4f09",
   "metadata": {},
   "outputs": [
    {
     "name": "stdout",
     "output_type": "stream",
     "text": [
      "20 21\n"
     ]
    }
   ],
   "source": [
    "# Calculate the area of rectangles using lambda\n",
    "calculate_area = lambda length, width: length * width\n",
    "area1 = calculate_area(5, 4)\n",
    "area2 = calculate_area(7, 3)\n",
    "print(area1, area2)\n"
   ]
  },
  {
   "cell_type": "markdown",
   "id": "92b8d515",
   "metadata": {},
   "source": [
    "# 4. What are the advantages and limitations of lambda functions compared to regular functions in Python?"
   ]
  },
  {
   "cell_type": "markdown",
   "id": "95c0c8a7",
   "metadata": {},
   "source": [
    "Lambda functions in Python offer several advantages and have some limitations when compared to regular (named) functions. Below are the advantages and limitations of lambda functions:\n",
    "\n",
    "**Advantages of Lambda Functions:**\n",
    "\n",
    "1. **Conciseness:** Lambda functions are concise and allow you to define small, one-time operations in a single line of code. This can lead to more readable and compact code.\n",
    "\n",
    "2. **Anonymous:** Lambda functions are anonymous, meaning they don't require a name. This can be useful for short, throwaway functions that are used in a specific context.\n",
    "\n",
    "3. **Functional Programming:** Lambda functions are well-suited for functional programming techniques like mapping, filtering, and reducing when working with iterables.\n",
    "\n",
    "4. **Simplicity:** Lambda functions are straightforward and easy to understand for simple operations. They can simplify code by removing the need for a separate function definition.\n",
    "\n",
    "**Limitations of Lambda Functions:**\n",
    "\n",
    "1. **Single Expression:** Lambda functions are limited to a single expression, which means they cannot contain multiple statements or complex logic. Regular functions defined with `def` can have multiple statements.\n",
    "\n",
    "2. **No Statements:** Lambda functions cannot contain statements like `if`, `for`, or `while`. They are limited to expressions only. Regular functions can include statements.\n",
    "\n",
    "3. **Readability:** While lambda functions can make code more concise, they can also make it less readable if used excessively or for complex operations. For complex logic or longer functions, named functions are often more readable.\n",
    "\n",
    "4. **Limited Reusability:** Lambda functions are typically used for specific, one-time operations. They are not suitable for reusable code or functions that need to be used in multiple places in a program.\n",
    "\n",
    "5. **Debugging:** Debugging lambda functions can be more challenging than debugging regular functions because they lack a name and cannot be easily inspected during runtime.\n",
    "\n",
    "In summary, lambda functions in Python are useful for short, simple operations and functional programming tasks, where conciseness is important. However, they have limitations in terms of complexity, reusability, and debugging compared to regular functions defined with `def`. The choice between lambda functions and regular functions depends on the specific requirements of your code and the trade-offs between conciseness and readability."
   ]
  },
  {
   "cell_type": "markdown",
   "id": "659ccf3f",
   "metadata": {},
   "source": [
    "# 5. Are lambda functions in Python able to access variables defined outside of their own scope? Explain with an example."
   ]
  },
  {
   "cell_type": "markdown",
   "id": "3e3e13d1",
   "metadata": {},
   "source": [
    "Yes, lambda functions in Python can access variables defined outside of their own scope. This is because lambda functions capture variables from their surrounding lexical scope. This behavior is known as \"closure.\"\n",
    "\n",
    "Here's an example to illustrate how lambda functions can access external variables:"
   ]
  },
  {
   "cell_type": "code",
   "execution_count": 9,
   "id": "6e6b31ba",
   "metadata": {},
   "outputs": [
    {
     "name": "stdout",
     "output_type": "stream",
     "text": [
      "15\n"
     ]
    }
   ],
   "source": [
    "def outer_function(x):\n",
    "    # Define a lambda function that uses 'x'\n",
    "    inner_lambda = lambda y: x + y\n",
    "    return inner_lambda\n",
    "\n",
    "# Create a lambda function using 'outer_function'\n",
    "add_five = outer_function(5)\n",
    "\n",
    "# Use the lambda function to add 5 to a value\n",
    "result = add_five(10)  # This will add 5 to 10\n",
    "print(result)  # Output: 15\n"
   ]
  },
  {
   "cell_type": "markdown",
   "id": "0226e5e9",
   "metadata": {},
   "source": [
    "# 6. Write a lambda function to calculate the square of a given number."
   ]
  },
  {
   "cell_type": "code",
   "execution_count": 10,
   "id": "2ed2c7ca",
   "metadata": {},
   "outputs": [
    {
     "name": "stdout",
     "output_type": "stream",
     "text": [
      "25\n"
     ]
    }
   ],
   "source": [
    "square = lambda x: x**2\n",
    "\n",
    "# Example usage:\n",
    "result = square(5)  # Calculate the square of 5\n",
    "print(result)  # Output: 25\n"
   ]
  },
  {
   "cell_type": "markdown",
   "id": "d09fd9bf",
   "metadata": {},
   "source": [
    "# 7. Create a lambda function to find the maximum value in a list of integers."
   ]
  },
  {
   "cell_type": "code",
   "execution_count": 13,
   "id": "7fa1289a",
   "metadata": {},
   "outputs": [
    {
     "name": "stdout",
     "output_type": "stream",
     "text": [
      "The maximum value is: 89\n"
     ]
    }
   ],
   "source": [
    "# Sample list of integers\n",
    "numbers = [12, 45, 78, 23, 56, 89, 34]\n",
    "\n",
    "# Use a lambda function with max() to find the maximum value\n",
    "max_value = max(numbers, key=lambda x:x)\n",
    "print(\"The maximum value is:\", max_value)\n"
   ]
  },
  {
   "cell_type": "markdown",
   "id": "b1adf758",
   "metadata": {},
   "source": [
    "# 8. Implement a lambda function to filter out all the even numbers from a list of integers."
   ]
  },
  {
   "cell_type": "code",
   "execution_count": 14,
   "id": "151b532e",
   "metadata": {},
   "outputs": [
    {
     "name": "stdout",
     "output_type": "stream",
     "text": [
      "Even numbers: [12, 78, 56, 34]\n"
     ]
    }
   ],
   "source": [
    "# Sample list of integers\n",
    "numbers = [12, 45, 78, 23, 56, 89, 34]\n",
    "\n",
    "# Use a lambda function with filter() to filter out even numbers\n",
    "even_numbers = list(filter(lambda x: x % 2 == 0, numbers))\n",
    "\n",
    "print(\"Even numbers:\", even_numbers)\n"
   ]
  },
  {
   "cell_type": "markdown",
   "id": "11efeea2",
   "metadata": {},
   "source": [
    "# 9. Write a lambda function to sort a list of strings in ascending order based on the length of each string."
   ]
  },
  {
   "cell_type": "code",
   "execution_count": 15,
   "id": "856d57a2",
   "metadata": {},
   "outputs": [
    {
     "name": "stdout",
     "output_type": "stream",
     "text": [
      "Sorted strings by length: ['fig', 'date', 'apple', 'banana', 'cherry']\n"
     ]
    }
   ],
   "source": [
    "# Sample list of strings\n",
    "strings = [\"apple\", \"banana\", \"cherry\", \"date\", \"fig\"]\n",
    "\n",
    "# Use a lambda function with sorted() to sort strings by length\n",
    "sorted_strings = sorted(strings, key=lambda s: len(s))\n",
    "\n",
    "print(\"Sorted strings by length:\", sorted_strings)\n"
   ]
  },
  {
   "cell_type": "markdown",
   "id": "7acd2b8c",
   "metadata": {},
   "source": [
    "# 10. Create a lambda function that takes two lists as input and returns a new list containing the common elements between the two lists."
   ]
  },
  {
   "cell_type": "code",
   "execution_count": 16,
   "id": "4f11b521",
   "metadata": {},
   "outputs": [
    {
     "name": "stdout",
     "output_type": "stream",
     "text": [
      "Common elements: [3, 4, 5]\n"
     ]
    }
   ],
   "source": [
    "# Sample lists\n",
    "list1 = [1, 2, 3, 4, 5]\n",
    "list2 = [3, 4, 5, 6, 7]\n",
    "\n",
    "# Use a lambda function with filter() to find common elements\n",
    "common_elements = list(filter(lambda x: x in list1, list2))\n",
    "\n",
    "print(\"Common elements:\", common_elements)\n"
   ]
  },
  {
   "cell_type": "markdown",
   "id": "e2fec0cd",
   "metadata": {},
   "source": [
    "# 11. Write a recursive function to calculate the factorial of a given positive integer."
   ]
  },
  {
   "cell_type": "code",
   "execution_count": 19,
   "id": "96e18623",
   "metadata": {},
   "outputs": [
    {
     "name": "stdout",
     "output_type": "stream",
     "text": [
      "Factorial of 5 is: 120\n"
     ]
    }
   ],
   "source": [
    "def factorial(n):\n",
    "    # Base case: factorial of 0 or 1 is 1\n",
    "    if n == 0 or n == 1:\n",
    "        return 1\n",
    "    else:\n",
    "        # Recursive case: n! = n * (n-1)!\n",
    "        return n * factorial(n - 1)\n",
    "\n",
    "# Test the function\n",
    "result = factorial(5)  # Calculate 5!\n",
    "print(\"Factorial of 5 is:\", result)\n"
   ]
  },
  {
   "cell_type": "markdown",
   "id": "5ae7be35",
   "metadata": {},
   "source": [
    "# 12. Implement a recursive function to compute the nth Fibonacci number."
   ]
  },
  {
   "cell_type": "code",
   "execution_count": 20,
   "id": "87adecdb",
   "metadata": {},
   "outputs": [
    {
     "name": "stdout",
     "output_type": "stream",
     "text": [
      "The 10th Fibonacci number is: 55\n"
     ]
    }
   ],
   "source": [
    "def fibonacci(n):\n",
    "    if n <= 0:\n",
    "        return 0\n",
    "    elif n == 1:\n",
    "        return 1\n",
    "    else:\n",
    "        return fibonacci(n - 1) + fibonacci(n - 2)\n",
    "\n",
    "# Test the function\n",
    "n = 10  # Find the 10th Fibonacci number\n",
    "result = fibonacci(n)\n",
    "print(f\"The {n}th Fibonacci number is:\", result)\n"
   ]
  },
  {
   "cell_type": "markdown",
   "id": "c87fd8e6",
   "metadata": {},
   "source": [
    "# 13. Create a recursive function to find the sum of all the elements in a given list."
   ]
  },
  {
   "cell_type": "code",
   "execution_count": 21,
   "id": "21324346",
   "metadata": {},
   "outputs": [
    {
     "name": "stdout",
     "output_type": "stream",
     "text": [
      "Sum of elements in the list: 15\n"
     ]
    }
   ],
   "source": [
    "def recursive_sum(lst):\n",
    "    # Base case: If the list is empty, the sum is 0\n",
    "    if not lst:\n",
    "        return 0\n",
    "    else:\n",
    "        # Recursive case: Sum the first element with the sum of the rest of the list\n",
    "        return lst[0] + recursive_sum(lst[1:])\n",
    "\n",
    "# Test the function\n",
    "numbers = [1, 2, 3, 4, 5]\n",
    "result = recursive_sum(numbers)\n",
    "print(\"Sum of elements in the list:\", result)\n"
   ]
  },
  {
   "cell_type": "markdown",
   "id": "ed200a35",
   "metadata": {},
   "source": [
    "# 14. Write a recursive function to determine whether a given string is a palindrome."
   ]
  },
  {
   "cell_type": "code",
   "execution_count": 22,
   "id": "282da32d",
   "metadata": {},
   "outputs": [
    {
     "name": "stdout",
     "output_type": "stream",
     "text": [
      "'racecar' is a palindrome: True\n",
      "'hello' is a palindrome: False\n"
     ]
    }
   ],
   "source": [
    "def is_palindrome(string):\n",
    "    # Base case: A string of length 0 or 1 is always a palindrome\n",
    "    if len(string) <= 1:\n",
    "        return True\n",
    "    else:\n",
    "        # Check if the first and last characters are the same\n",
    "        if string[0] == string[-1]:\n",
    "            # Recursive case: Recursively check the substring without the first and last characters\n",
    "            return is_palindrome(string[1:-1])\n",
    "        else:\n",
    "            return False\n",
    "\n",
    "# Test the function\n",
    "test_string1 = \"racecar\"\n",
    "test_string2 = \"hello\"\n",
    "\n",
    "print(f\"'{test_string1}' is a palindrome:\", is_palindrome(test_string1))\n",
    "print(f\"'{test_string2}' is a palindrome:\", is_palindrome(test_string2))\n"
   ]
  },
  {
   "cell_type": "markdown",
   "id": "fc324bcc",
   "metadata": {},
   "source": [
    "# 15. Implement a recursive function to find the greatest common divisor (GCD) of two positive integers."
   ]
  },
  {
   "cell_type": "code",
   "execution_count": 23,
   "id": "ef36cfbc",
   "metadata": {},
   "outputs": [
    {
     "name": "stdout",
     "output_type": "stream",
     "text": [
      "The GCD of 48 and 18 is: 6\n"
     ]
    }
   ],
   "source": [
    "def gcd(a, b):\n",
    "    # Base case: GCD of a number and 0 is the number itself\n",
    "    if b == 0:\n",
    "        return a\n",
    "    else:\n",
    "        # Recursive case: Calculate GCD using the Euclidean algorithm\n",
    "        return gcd(b, a % b)\n",
    "\n",
    "# Test the function\n",
    "num1 = 48\n",
    "num2 = 18\n",
    "\n",
    "result = gcd(num1, num2)\n",
    "print(f\"The GCD of {num1} and {num2} is:\", result)\n"
   ]
  }
 ],
 "metadata": {
  "kernelspec": {
   "display_name": "Python 3 (ipykernel)",
   "language": "python",
   "name": "python3"
  },
  "language_info": {
   "codemirror_mode": {
    "name": "ipython",
    "version": 3
   },
   "file_extension": ".py",
   "mimetype": "text/x-python",
   "name": "python",
   "nbconvert_exporter": "python",
   "pygments_lexer": "ipython3",
   "version": "3.11.4"
  }
 },
 "nbformat": 4,
 "nbformat_minor": 5
}
