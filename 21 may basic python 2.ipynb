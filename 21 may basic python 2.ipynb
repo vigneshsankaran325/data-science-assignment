{
 "cells": [
  {
   "cell_type": "markdown",
   "id": "27535a9b",
   "metadata": {},
   "source": [
    "# Q.1. Create two int type variables, apply addition, subtraction, division and multiplications and store the results in variables. Then print the data in the following format by calling thevariables:\n",
    "First variable is __ & second variable is __.\n",
    "Addition: __ + __ = __\n",
    "Subtraction: __ - __ = __\n",
    "Multiplication: __ * __ = __\n",
    "Division: __ / __ = __"
   ]
  },
  {
   "cell_type": "code",
   "execution_count": 1,
   "id": "3a1f2517",
   "metadata": {},
   "outputs": [
    {
     "name": "stdout",
     "output_type": "stream",
     "text": [
      "First variable is 10 & second variable is 5.\n",
      "Addition: 10 + 5 = 15\n",
      "Subtraction: 10 - 5 = 5\n",
      "Multiplication: 10 * 5 = 50\n",
      "Division: 10 / 5 = 2.0\n"
     ]
    }
   ],
   "source": [
    "# Create two integer variables\n",
    "first_variable = 10\n",
    "second_variable = 5\n",
    "\n",
    "# Perform arithmetic operations\n",
    "addition_result = first_variable + second_variable\n",
    "subtraction_result = first_variable - second_variable\n",
    "multiplication_result = first_variable * second_variable\n",
    "\n",
    "# Check if division by zero is possible\n",
    "if second_variable != 0:\n",
    "    division_result = first_variable / second_variable\n",
    "else:\n",
    "    division_result = \"Undefined (division by zero)\"\n",
    "\n",
    "# Print the results in the specified format\n",
    "print(f\"First variable is {first_variable} & second variable is {second_variable}.\")\n",
    "print(f\"Addition: {first_variable} + {second_variable} = {addition_result}\")\n",
    "print(f\"Subtraction: {first_variable} - {second_variable} = {subtraction_result}\")\n",
    "print(f\"Multiplication: {first_variable} * {second_variable} = {multiplication_result}\")\n",
    "print(f\"Division: {first_variable} / {second_variable} = {division_result}\")\n"
   ]
  },
  {
   "cell_type": "markdown",
   "id": "018a5d6a",
   "metadata": {},
   "source": [
    "# Q.2. What is the difference between the following operators:\n",
    "(i) ‘/’ & ‘//’\n",
    "(ii) ‘**’ & ‘^’"
   ]
  },
  {
   "cell_type": "markdown",
   "id": "594eaa79",
   "metadata": {},
   "source": [
    "(i) Difference between '/' and '//':\n",
    "\n",
    "'/' (Forward Slash): This is the division operator in most programming languages, including Python. When you use '/', it performs regular division and returns a floating-point (decimal) result. For example, if you divide 7 by 3 using '/', you'll get 2.3333... as the result.\n",
    "\n",
    "'//' (Double Forward Slash): This is floor division or integer division operator in Python. It performs division and returns the largest integer that is less than or equal to the result. For example, if you divide 7 by 3 using '//', you'll get 2 as the result. It essentially truncates the decimal part of the result and returns an integer."
   ]
  },
  {
   "cell_type": "markdown",
   "id": "b7557055",
   "metadata": {},
   "source": [
    "(ii) Difference between '**' and '^':\n",
    "\n",
    "'**' (Double Asterisk): This is the exponentiation operator in Python (and many other programming languages). It is used to raise a number to a power. For example, 2 ** 3 means 2 raised to the power of 3, which equals 8.\n",
    "\n",
    "'^' (Caret): The caret symbol (^) is not an exponentiation operator in most programming languages, including Python. It is typically used as a bitwise XOR operator for integers. It performs a bitwise XOR operation on the binary representations of two numbers."
   ]
  },
  {
   "cell_type": "markdown",
   "id": "0d8895fe",
   "metadata": {},
   "source": [
    "# Q.3. List the logical operators."
   ]
  },
  {
   "cell_type": "markdown",
   "id": "c87be986",
   "metadata": {},
   "source": [
    "In Python, there are three logical operators that are used to combine and manipulate boolean values. These operators are used to perform logical operations on one or more boolean expressions. The logical operators in Python are:\n",
    "\n",
    "1. `and`: The \"and\" operator returns `True` if both operands (boolean expressions) are `True`, and `False` otherwise. It behaves as a logical \"and\" operation.\n",
    "\n",
    "2. `or`: The \"or\" operator returns `True` if at least one of the operands (boolean expressions) is `True`, and `False` if both operands are `False`. It behaves as a logical \"or\" operation.\n",
    "\n",
    "3. `not`: The \"not\" operator returns the opposite of the boolean expression. If the expression is `True`, `not` makes it `False`, and if the expression is `False`, `not` makes it `True`. It behaves as a logical \"not\" operation.\n",
    "\n"
   ]
  },
  {
   "cell_type": "markdown",
   "id": "3d0216f2",
   "metadata": {},
   "source": [
    "# Q.4. Explain right shift operator and left shift operator with examples."
   ]
  },
  {
   "cell_type": "markdown",
   "id": "076ca9ae",
   "metadata": {},
   "source": [
    "\n",
    "In Python, the right shift (>>) and left shift (<<) operators are used to perform bitwise shift operations on integers. These operators allow you to shift the binary representation of an integer's bits to the right or left.\n",
    "\n",
    "Here's an explanation of both operators with examples:\n",
    "\n",
    "Right Shift (>>):\n",
    "The right shift operator (>>) shifts the bits of an integer to the right by a specified number of positions.\n",
    "It fills the vacant positions on the left with the sign bit (0 for positive numbers, 1 for negative numbers) or with zeros if the integer is positive.\n",
    "The syntax is operand >> n, where operand is the integer to be shifted, and n is the number of positions to shift.\n",
    "\n",
    "Left Shift (<<):\n",
    "The left shift operator (<<) shifts the bits of an integer to the left by a specified number of positions.\n",
    "It fills the vacant positions on the right with zeros.\n",
    "The syntax is operand << n, where operand is the integer to be shifted, and n is the number of positions to shift."
   ]
  },
  {
   "cell_type": "code",
   "execution_count": 3,
   "id": "a3cf521f",
   "metadata": {},
   "outputs": [
    {
     "name": "stdout",
     "output_type": "stream",
     "text": [
      "12\n",
      "12\n"
     ]
    }
   ],
   "source": [
    "x = 3  # Binary representation: 0b11\n",
    "\n",
    "# Left shift by 2 positions\n",
    "result = x << 2  # Binary representation after shifting: 0b1100\n",
    "\n",
    "print(result) \n",
    "\n",
    "x = 3  # Binary representation: 0b11\n",
    "\n",
    "# Left shift by 2 positions\n",
    "result = x << 2  # Binary representation after shifting: 0b1100\n",
    "\n",
    "print(result) \n"
   ]
  },
  {
   "cell_type": "markdown",
   "id": "1b174205",
   "metadata": {},
   "source": [
    "# Q.5. Create a list containing int type data of length 15. Then write a code to check if 10 is present in the list or not."
   ]
  },
  {
   "cell_type": "code",
   "execution_count": 4,
   "id": "91ebb724",
   "metadata": {},
   "outputs": [
    {
     "name": "stdout",
     "output_type": "stream",
     "text": [
      "10 is present in the list.\n"
     ]
    }
   ],
   "source": [
    "# Create a list of integers\n",
    "my_list = [5, 8, 3, 10, 7, 12, 18, 20, 15, 25, 30, 40, 50, 60, 70]\n",
    "\n",
    "# Check if 10 is present in the list\n",
    "if 10 in my_list:\n",
    "    print(\"10 is present in the list.\")\n",
    "else:\n",
    "    print(\"10 is not present in the list.\")\n"
   ]
  },
  {
   "cell_type": "code",
   "execution_count": null,
   "id": "30c9c164",
   "metadata": {},
   "outputs": [],
   "source": []
  }
 ],
 "metadata": {
  "kernelspec": {
   "display_name": "Python 3 (ipykernel)",
   "language": "python",
   "name": "python3"
  },
  "language_info": {
   "codemirror_mode": {
    "name": "ipython",
    "version": 3
   },
   "file_extension": ".py",
   "mimetype": "text/x-python",
   "name": "python",
   "nbconvert_exporter": "python",
   "pygments_lexer": "ipython3",
   "version": "3.11.4"
  }
 },
 "nbformat": 4,
 "nbformat_minor": 5
}
