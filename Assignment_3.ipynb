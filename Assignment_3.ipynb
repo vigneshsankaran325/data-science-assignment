{
 "cells": [
  {
   "cell_type": "markdown",
   "id": "eecd5165",
   "metadata": {},
   "source": [
    "# 1. Why are functions advantageous to have in your programs?"
   ]
  },
  {
   "cell_type": "markdown",
   "id": "35c4753b",
   "metadata": {},
   "source": [
    "# Functions offer several advantages in programming:\n",
    "\n",
    "1. **Modularity and Reusability:** Functions allow you to break down your code into smaller, manageable pieces that perform specific tasks. This promotes code modularity, making it easier to understand, maintain, and debug. Additionally, once a function is defined, you can reuse it in different parts of your program or even in other projects, saving you time and effort.\n",
    "\n",
    "2. **Abstraction:** Functions abstract away the implementation details of a certain task. This means you can use a function without needing to understand how it works internally. This level of abstraction makes your code more readable and helps hide complex logic behind a simpler interface.\n",
    "\n",
    "3. **Readability and Maintainability:** Breaking down a program into smaller functions with well-defined purposes makes the codebase more organized and easier to read. This is especially important in larger projects where numerous lines of code can become overwhelming without proper structure.\n",
    "\n",
    "4. **Debugging and Testing:** When a specific function is responsible for a particular task, it's easier to pinpoint and fix errors within that function. Isolating functions also makes testing more straightforward, as you can test individual functions in isolation before integrating them into the larger program.\n",
    "\n",
    "5. **Collaboration:** Functions make it easier for multiple programmers to collaborate on a project. Different team members can work on different functions simultaneously, provided they adhere to the function's interface and requirements.\n",
    "\n",
    "6. **Scalability:** As your program grows, managing code without functions becomes increasingly difficult. Functions enable you to scale your application more efficiently by adding new features or modifying existing ones without having to overhaul the entire codebase.\n",
    "\n",
    "7. **Code Reusability:** Functions can be used across different projects, helping you avoid reinventing the wheel each time you start a new coding task. This accelerates development and encourages consistent coding practices.\n",
    "\n",
    "8. **Encapsulation:** Functions provide a level of encapsulation, which means the internal workings of a function are hidden from the outside world. This allows you to change the implementation of a function without affecting the rest of the program as long as the function's interface remains consistent.\n",
    "\n",
    "9. **Performance Optimization:** Functions allow you to optimize specific parts of your code by focusing on improving the performance of individual functions rather than the entire program. This can lead to more efficient and faster code execution.\n",
    "\n",
    "In summary, functions promote code organization, reusability, readability, maintainability, and collaboration. They are a fundamental building block in programming that help developers create cleaner, more efficient, and more robust software."
   ]
  },
  {
   "cell_type": "markdown",
   "id": "96c56b98",
   "metadata": {},
   "source": [
    "# 2. When does the code in a function run: when it's specified or when it's called?"
   ]
  },
  {
   "cell_type": "markdown",
   "id": "46f3576d",
   "metadata": {},
   "source": [
    "The code in a function runs when the function is called rather than when it's specified or defined. When you define a function, you are essentially creating a reusable block of code that is not executed immediately. Instead, the code within the function is executed only when you explicitly call the function in your program."
   ]
  },
  {
   "cell_type": "markdown",
   "id": "9f80f578",
   "metadata": {},
   "source": [
    "# 3. What statement creates a function?"
   ]
  },
  {
   "cell_type": "code",
   "execution_count": 8,
   "id": "d671fbf2",
   "metadata": {},
   "outputs": [],
   "source": [
    "# Python example\n",
    "def function_name(parameters):\n",
    "    # Function code goes hereWhat is the difference between a function and a function call?\n",
    "    # ...\n",
    "    return 'result' #What is the difference between a function and a function call?  # Optional return statement\n"
   ]
  },
  {
   "cell_type": "markdown",
   "id": "34e5c3f7",
   "metadata": {},
   "source": [
    "In this example, def is the keyword used to define a function in Python. Here's how the process works:\n",
    "\n",
    "Function Name: You provide a name for your function, which should be descriptive of the task the function performs.\n",
    "\n",
    "Parameters: Inside the parentheses, you can specify the input parameters (also called arguments) that the function expects. These parameters are placeholders for values that you pass to the function when you call it.\n",
    "\n",
    "Function Code: The code that makes up the functionality of the function is indented under the def statement. This is the code that will be executed when the function is called.\n",
    "\n",
    "Return Statement: If your function produces a result that you want to return to the caller, you can use the return statement. This statement is optional, and you can return any value, data type, or even no value (using return without any value) from the function"
   ]
  },
  {
   "cell_type": "markdown",
   "id": "4bab2649",
   "metadata": {},
   "source": [
    "# 4.What is the difference between a function and a function call?"
   ]
  },
  {
   "cell_type": "markdown",
   "id": "1b123b8d",
   "metadata": {},
   "source": [
    "Function:\n",
    "A function is a named block of code that performs a specific task. It encapsulates a set of instructions that can be executed when the function is called. Functions are defined using a specific syntax in programming languages and can have parameters (inputs) and an optional return value (output).\n",
    "\n",
    "Function Call:\n",
    "A function call, on the other hand, is the act of actually using or invoking a function in your code. When you want to execute the code within a function, you make a function call. This involves using the function's name followed by parentheses, optionally providing arguments (input values) within the parentheses."
   ]
  },
  {
   "cell_type": "markdown",
   "id": "fc5ad2b1",
   "metadata": {},
   "source": [
    "# 5. How many global scopes are there in a Python program? How many local scopes?"
   ]
  },
  {
   "cell_type": "markdown",
   "id": "860367ff",
   "metadata": {},
   "source": [
    "In a Python program, there is one global scope and potentially multiple local scopes. Here's what this means:\n",
    "\n",
    "Global Scope:\n",
    "The global scope refers to the top-level scope of your Python program. Variables defined in the global scope are accessible from anywhere in the program, including within functions. These variables are often referred to as global variables. They are defined outside of any function or class.\n",
    "\n",
    "Local Scopes:\n",
    "Local scopes are created when you define a function. Variables defined within a function are said to have a local scope and are only accessible within that function. These variables are often referred to as local variables. Each time a function is called, a new local scope is created, and any variables defined within that function belong to that specific instance of the local scope.\n",
    "\n",
    "It's important to note that variables within a local scope are not accessible from outside that scope. Similarly, variables defined in a local scope do not affect variables in other local scopes or the global scope."
   ]
  },
  {
   "cell_type": "markdown",
   "id": "d521622d",
   "metadata": {},
   "source": [
    "# 6. What happens to variables in a local scope when the function call returns?"
   ]
  },
  {
   "cell_type": "code",
   "execution_count": 12,
   "id": "91ac282a",
   "metadata": {},
   "outputs": [
    {
     "name": "stdout",
     "output_type": "stream",
     "text": [
      "Inside function: 5\n"
     ]
    }
   ],
   "source": [
    "def example_function():\n",
    "    local_var = 5\n",
    "    print(\"Inside function:\", local_var)\n",
    "\n",
    "example_function()  \n",
    "# print(\"Outside function:\", local_var)  # This would result in an error\n"
   ]
  },
  {
   "cell_type": "markdown",
   "id": "ce229ce0",
   "metadata": {},
   "source": [
    "When a function call returns in Python, the local variables that were defined within the function's local scope become inaccessible and are effectively destroyed. This process is known as variable scope and lifetime. Here's what happens:\n",
    "\n",
    "Local Variable Scope: When a function is called, a new local scope is created for that function. Any variables defined within the function are local to that scope, meaning they can only be accessed within the function.\n",
    "\n",
    "Variable Lifetime: The local variables within the function's local scope have a lifetime that corresponds to the duration of the function's execution. They come into existence when the function is called and are destroyed when the function call returns.\n",
    "\n",
    "Inaccessibility After Return: Once the function call completes and returns, the local scope associated with that function is destroyed, and the local variables within it are no longer accessible or valid."
   ]
  },
  {
   "cell_type": "markdown",
   "id": "e04f4fa6",
   "metadata": {},
   "source": [
    "# 7.What is the concept of a return value? Is it possible to have a return value in an expression?"
   ]
  },
  {
   "cell_type": "markdown",
   "id": "da14ec63",
   "metadata": {},
   "source": [
    "The concept of a return value in programming refers to the value that a function provides back to the caller when the function completes its execution. When a function is called, it may perform some computations or operations and then optionally produce a result that can be used by the code that called the function.\n"
   ]
  },
  {
   "cell_type": "markdown",
   "id": "14125931",
   "metadata": {},
   "source": [
    "As for having a return value in an expression, yes, it's possible. In many programming languages, including Python, you can use a function call within an expression just like you would use a variable or a constant. For example:"
   ]
  },
  {
   "cell_type": "code",
   "execution_count": 13,
   "id": "285ae571",
   "metadata": {},
   "outputs": [
    {
     "name": "stdout",
     "output_type": "stream",
     "text": [
      "25\n"
     ]
    }
   ],
   "source": [
    "def square(x):\n",
    "    return x ** 2\n",
    "\n",
    "result = square(4) + square(3)  # Using return values in an expression\n",
    "print(result)  # Output: 25 (4^2 + 3^2)\n"
   ]
  },
  {
   "cell_type": "markdown",
   "id": "12179368",
   "metadata": {},
   "source": [
    "In this example, the return values of the square function are used in an expression to calculate the sum of their squares. This demonstrates how return values can be seamlessly integrated into the flow of your program, enabling you to perform calculations and operations based on the results of function calls."
   ]
  },
  {
   "cell_type": "markdown",
   "id": "488577b7",
   "metadata": {},
   "source": [
    "# 8. If a function does not have a return statement, what is the return value of a call to that function?"
   ]
  },
  {
   "cell_type": "code",
   "execution_count": 20,
   "id": "ca9b2ec9",
   "metadata": {},
   "outputs": [
    {
     "name": "stdout",
     "output_type": "stream",
     "text": [
      "None\n"
     ]
    }
   ],
   "source": [
    "def my_function():\n",
    "    2+2# No return statement\n",
    "\n",
    "result = my_function()\n",
    "print(result)  # This will output: None\n"
   ]
  },
  {
   "cell_type": "code",
   "execution_count": 21,
   "id": "e137f692",
   "metadata": {},
   "outputs": [
    {
     "name": "stdout",
     "output_type": "stream",
     "text": [
      "4\n"
     ]
    }
   ],
   "source": [
    "def my_function():\n",
    "     return 2+2# No return statement\n",
    "result = my_function()\n",
    "print(result)  # This will output: None"
   ]
  },
  {
   "cell_type": "markdown",
   "id": "0cbc9626",
   "metadata": {},
   "source": [
    "it returns None"
   ]
  },
  {
   "cell_type": "markdown",
   "id": "90229045",
   "metadata": {},
   "source": [
    "# 9. How do you make a function variable refer to the global variable?"
   ]
  },
  {
   "cell_type": "markdown",
   "id": "f31efc67",
   "metadata": {},
   "source": [
    "In most programming languages, if you want to make a function variable refer to a global variable, you can achieve this by using the global keyword within the function. This keyword indicates that the variable being used is a global variable, rather than a local one."
   ]
  },
  {
   "cell_type": "code",
   "execution_count": 23,
   "id": "4c953ff7",
   "metadata": {},
   "outputs": [
    {
     "name": "stdout",
     "output_type": "stream",
     "text": [
      "10\n",
      "20\n"
     ]
    }
   ],
   "source": [
    "global_var = 10\n",
    "\n",
    "def modify_global_var():\n",
    "    global global_var  # Declare that we're using the global variable\n",
    "    global_var = 20    # Modify the global variable inside the function\n",
    "\n",
    "print(global_var)  # Output: 10\n",
    "modify_global_var()\n",
    "print(global_var)  # Output: 20\n"
   ]
  },
  {
   "cell_type": "markdown",
   "id": "6371234b",
   "metadata": {},
   "source": [
    "# 10. What is the data type of None?"
   ]
  },
  {
   "cell_type": "markdown",
   "id": "8f9cf64f",
   "metadata": {},
   "source": [
    "Python, the special value None represents the absence of a value or a null value. It is often used to indicate that a variable or a function doesn't have a meaningful value or result.\n",
    "\n",
    "In Python specifically, the data type of None is called NoneType. It is a built-in type that has only one possible value: None. You can use the type() function to check the type of a variable or value:"
   ]
  },
  {
   "cell_type": "code",
   "execution_count": 24,
   "id": "c0de0f42",
   "metadata": {},
   "outputs": [
    {
     "name": "stdout",
     "output_type": "stream",
     "text": [
      "<class 'NoneType'>\n"
     ]
    }
   ],
   "source": [
    "x = None\n",
    "print(type(x)) "
   ]
  },
  {
   "cell_type": "markdown",
   "id": "bd3dff61",
   "metadata": {},
   "source": [
    "# What does the sentence import areallyourpetsnamederic do?"
   ]
  },
  {
   "cell_type": "code",
   "execution_count": 26,
   "id": "03432b21",
   "metadata": {},
   "outputs": [
    {
     "ename": "ModuleNotFoundError",
     "evalue": "No module named 'areallyourpetsnamederic'",
     "output_type": "error",
     "traceback": [
      "\u001b[1;31m---------------------------------------------------------------------------\u001b[0m",
      "\u001b[1;31mModuleNotFoundError\u001b[0m                       Traceback (most recent call last)",
      "Cell \u001b[1;32mIn[26], line 1\u001b[0m\n\u001b[1;32m----> 1\u001b[0m \u001b[38;5;28;01mimport\u001b[39;00m \u001b[38;5;21;01mareallyourpetsnamederic\u001b[39;00m\n",
      "\u001b[1;31mModuleNotFoundError\u001b[0m: No module named 'areallyourpetsnamederic'"
     ]
    }
   ],
   "source": [
    "import areallyourpetsnamederic"
   ]
  },
  {
   "cell_type": "markdown",
   "id": "e4440bea",
   "metadata": {},
   "source": [
    "it shows error"
   ]
  },
  {
   "cell_type": "markdown",
   "id": "d09babed",
   "metadata": {},
   "source": [
    "# 12. If you had a bacon() feature in a spam module, what would you call it after importing spam?"
   ]
  },
  {
   "cell_type": "markdown",
   "id": "6d512b13",
   "metadata": {},
   "source": [
    "If you have a `bacon()` function within a module named `spam` and you import that module, you would call the `bacon()` function using the following syntax:"
   ]
  },
  {
   "cell_type": "code",
   "execution_count": 28,
   "id": "2c3a1c05",
   "metadata": {},
   "outputs": [
    {
     "ename": "ModuleNotFoundError",
     "evalue": "No module named 'spam'",
     "output_type": "error",
     "traceback": [
      "\u001b[1;31m---------------------------------------------------------------------------\u001b[0m",
      "\u001b[1;31mModuleNotFoundError\u001b[0m                       Traceback (most recent call last)",
      "Cell \u001b[1;32mIn[28], line 1\u001b[0m\n\u001b[1;32m----> 1\u001b[0m \u001b[38;5;28;01mimport\u001b[39;00m \u001b[38;5;21;01mspam\u001b[39;00m\n\u001b[0;32m      3\u001b[0m spam\u001b[38;5;241m.\u001b[39mbacon()\n",
      "\u001b[1;31mModuleNotFoundError\u001b[0m: No module named 'spam'"
     ]
    }
   ],
   "source": [
    "import spam\n",
    "\n",
    "spam.bacon()\n"
   ]
  },
  {
   "cell_type": "markdown",
   "id": "909fcda8",
   "metadata": {},
   "source": [
    "# 13. What can you do to save a programme from crashing if it encounters an error?"
   ]
  },
  {
   "cell_type": "markdown",
   "id": "beb6ffa4",
   "metadata": {},
   "source": [
    "To prevent a program from crashing when it encounters an error, you can implement error handling mechanisms. These mechanisms allow you to gracefully handle exceptions (errors) and continue the program's execution without abrupt termination. Here's how you can achieve this:\n",
    "\n",
    "Try-Except Blocks: Surround the potentially error-prone code with a try block, and handle specific exceptions using except blocks. This way, if an exception occurs, the program won't crash but will execute the code within the except block.\n",
    "\n",
    "Exception Handling with Generic except: You can also use a generic except block to catch all exceptions. However, this approach should be used carefully, as it can hide unexpected issues.\n",
    "\n",
    "Finally Block: You can use a finally block to specify code that should run regardless of whether an exception was raised. This is useful for cleanup tasks.\n",
    "\n",
    "Logging: Use logging to record error information. This helps you track issues without disrupting the program's flow."
   ]
  },
  {
   "cell_type": "markdown",
   "id": "bb0038df",
   "metadata": {},
   "source": [
    "# 14. What is the purpose of the try clause? What is the purpose of the except clause?"
   ]
  },
  {
   "cell_type": "markdown",
   "id": "e5821744",
   "metadata": {},
   "source": [
    "Purpose of the try Clause:\n",
    "The try clause is used to enclose a block of code that might potentially raise an exception. This allows you to indicate which parts of your code could cause exceptions and need special handling. When an exception occurs within the try block, the program doesn't immediately crash but instead transfers control to the associated except block (if available) or proceeds to the next portion of the code.\n",
    "The primary purpose of the try clause is to create a protected block of code where you can attempt to execute potentially risky operations without the risk of crashing the entire program if an exception is raised.\n",
    "\n",
    "Purpose of the except Clause:\n",
    "The except clause follows a try block and specifies what should be done if a specific type of exception is raised within the try block. When an exception matches the specified type, the associated except block is executed. This allows you to handle exceptions gracefully by providing alternative code paths or error messages.\n",
    "The primary purpose of the except clause is to define how your program should respond when a specific type of exception occurs within the try block."
   ]
  },
  {
   "cell_type": "code",
   "execution_count": null,
   "id": "8cb027af",
   "metadata": {},
   "outputs": [],
   "source": []
  }
 ],
 "metadata": {
  "kernelspec": {
   "display_name": "Python 3 (ipykernel)",
   "language": "python",
   "name": "python3"
  },
  "language_info": {
   "codemirror_mode": {
    "name": "ipython",
    "version": 3
   },
   "file_extension": ".py",
   "mimetype": "text/x-python",
   "name": "python",
   "nbconvert_exporter": "python",
   "pygments_lexer": "ipython3",
   "version": "3.10.9"
  }
 },
 "nbformat": 4,
 "nbformat_minor": 5
}
