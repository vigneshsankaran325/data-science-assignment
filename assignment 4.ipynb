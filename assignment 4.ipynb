{
 "cells": [
  {
   "cell_type": "markdown",
   "id": "8b2ccd26",
   "metadata": {},
   "source": [
    "# 1. What exactly is []?\n"
   ]
  },
  {
   "cell_type": "markdown",
   "id": "f9fa4254",
   "metadata": {},
   "source": [
    "The symbol \"[]\" represents an empty list in various programming languages, including Python. In programming, a list is a data structure that holds an ordered collection of elements, which can be of different types, such as numbers, strings, or even other lists.\n",
    "\n",
    "An empty list \"[]\" indicates that the list contains no elements. It's often used as a starting point when you want to populate the list with items later in your code or when you need to represent an absence of data at a particular point.\n",
    "for eg:\n",
    "empty_list = []\n",
    "print(empty_list)  # Output: []\n"
   ]
  },
  {
   "cell_type": "markdown",
   "id": "e722b672",
   "metadata": {},
   "source": [
    "# 2. In a list of values stored in a variable called spam, how would you assign the value &#39;hello&#39; as the third value? (Assume [2, 4, 6, 8, 10] are in spam.)"
   ]
  },
  {
   "cell_type": "markdown",
   "id": "99b049a9",
   "metadata": {},
   "source": [
    "\n",
    "To assign the value 'hello' as the third value in the list stored in the variable spam, you can use the indexing feature of lists in Python. In Python, list indices start from 0. So, to target the third value (which is at index 2), you can do the following:"
   ]
  },
  {
   "cell_type": "code",
   "execution_count": 1,
   "id": "19d7b5c3",
   "metadata": {},
   "outputs": [
    {
     "name": "stdout",
     "output_type": "stream",
     "text": [
      "[2, 4, 'hello', 8, 10]\n"
     ]
    }
   ],
   "source": [
    "spam = [2, 4, 6, 8, 10]\n",
    "spam[2] = 'hello'\n",
    "print(spam)"
   ]
  },
  {
   "cell_type": "code",
   "execution_count": 2,
   "id": "66bb252d",
   "metadata": {},
   "outputs": [],
   "source": [
    "spam=['a','b','c','d']"
   ]
  },
  {
   "cell_type": "markdown",
   "id": "ec140519",
   "metadata": {},
   "source": [
    "# 3. What is the value of spam[int(int('3'* 2) / 11)]?"
   ]
  },
  {
   "cell_type": "code",
   "execution_count": 3,
   "id": "ea314152",
   "metadata": {},
   "outputs": [
    {
     "data": {
      "text/plain": [
       "'d'"
      ]
     },
     "execution_count": 3,
     "metadata": {},
     "output_type": "execute_result"
    }
   ],
   "source": [
    "spam[int(int('3'* 2) / 11)]"
   ]
  },
  {
   "cell_type": "markdown",
   "id": "64eff3cb",
   "metadata": {},
   "source": [
    "# 4. What is the value of spam[-1]?"
   ]
  },
  {
   "cell_type": "code",
   "execution_count": 4,
   "id": "66cafc62",
   "metadata": {},
   "outputs": [
    {
     "data": {
      "text/plain": [
       "'d'"
      ]
     },
     "execution_count": 4,
     "metadata": {},
     "output_type": "execute_result"
    }
   ],
   "source": [
    "spam[-1]"
   ]
  },
  {
   "cell_type": "markdown",
   "id": "d7af79b6",
   "metadata": {},
   "source": [
    "# 5.What is the value of spam[:2]?"
   ]
  },
  {
   "cell_type": "code",
   "execution_count": 7,
   "id": "1ad141a2",
   "metadata": {},
   "outputs": [
    {
     "data": {
      "text/plain": [
       "['a', 'b']"
      ]
     },
     "execution_count": 7,
     "metadata": {},
     "output_type": "execute_result"
    }
   ],
   "source": [
    "spam[:2]"
   ]
  },
  {
   "cell_type": "markdown",
   "id": "0c93a579",
   "metadata": {},
   "source": [
    "# Let's pretend bacon has the list [3.14, 'cat,' 11, 'cat,'True] for the next three questions.\n",
    "6. What is the value of bacon.index(&#39;cat&#39;)?"
   ]
  },
  {
   "cell_type": "code",
   "execution_count": 14,
   "id": "1563bca2",
   "metadata": {},
   "outputs": [
    {
     "name": "stdout",
     "output_type": "stream",
     "text": [
      "1\n",
      "[3.14, 'cat', 11, 'cat', True, 99]\n",
      "[3.14, 11, 'cat', True, 99]\n"
     ]
    }
   ],
   "source": [
    "bacon= [3.14, 'cat', 11, 'cat',True]\n",
    "print(bacon.index('cat'))\n",
    "bacon.append(99)\n",
    "print(bacon)\n",
    "bacon.remove('cat')\n",
    "print(bacon)\n"
   ]
  },
  {
   "cell_type": "markdown",
   "id": "c91c5844",
   "metadata": {},
   "source": [
    "# 9. What are the list concatenation and list replication operators?"
   ]
  },
  {
   "cell_type": "markdown",
   "id": "e89c6c21",
   "metadata": {},
   "source": [
    "\n",
    "In Python, the list concatenation operator is +, and the list replication operator is *.\n",
    "\n",
    "List Concatenation (+):\n",
    "The + operator is used to concatenate (combine) two or more lists together into a single list. It creates a new list containing the elements of both the operands in the order they appear.\n",
    "\n"
   ]
  },
  {
   "cell_type": "code",
   "execution_count": 16,
   "id": "82ebe94d",
   "metadata": {},
   "outputs": [
    {
     "data": {
      "text/plain": [
       "[1, 2, 3, 4, 5, 6]"
      ]
     },
     "execution_count": 16,
     "metadata": {},
     "output_type": "execute_result"
    }
   ],
   "source": [
    "list1 = [1, 2, 3]\n",
    "list2 = [4, 5, 6]\n",
    "concatenated_list = list1 + list2\n",
    "concatenated_list"
   ]
  },
  {
   "cell_type": "markdown",
   "id": "1a3c718d",
   "metadata": {},
   "source": [
    "List Replication (*):\n",
    "The * operator is used to replicate a list a certain number of times, creating a new list that contains multiple copies of the original list."
   ]
  },
  {
   "cell_type": "code",
   "execution_count": 18,
   "id": "30dc9b21",
   "metadata": {},
   "outputs": [
    {
     "data": {
      "text/plain": [
       "[1, 2, 3, 1, 2, 3, 1, 2, 3]"
      ]
     },
     "execution_count": 18,
     "metadata": {},
     "output_type": "execute_result"
    }
   ],
   "source": [
    "original_list = [1, 2, 3]\n",
    "replicated_list = original_list * 3\n",
    "replicated_list"
   ]
  },
  {
   "cell_type": "markdown",
   "id": "8d92de66",
   "metadata": {},
   "source": [
    "# 10. What is difference between the list methods append() and insert()?"
   ]
  },
  {
   "cell_type": "markdown",
   "id": "50abb68f",
   "metadata": {},
   "source": [
    "Both append() and insert() are list methods in Python used to modify lists by adding elements, but they differ in how they add elements and where they add them within the list.\n",
    "\n",
    "append() Method:\n",
    "The append() method is used to add a single element to the end of a list. It takes a single argument, which is the element you want to add. The element is added to the end of the list, increasing the list's length by 1."
   ]
  },
  {
   "cell_type": "code",
   "execution_count": 21,
   "id": "55658adf",
   "metadata": {},
   "outputs": [
    {
     "data": {
      "text/plain": [
       "[1, 2, 3, 4]"
      ]
     },
     "execution_count": 21,
     "metadata": {},
     "output_type": "execute_result"
    }
   ],
   "source": [
    "my_list = [1, 2, 3]\n",
    "my_list.append(4)\n",
    "my_list"
   ]
  },
  {
   "cell_type": "markdown",
   "id": "ed217a0e",
   "metadata": {},
   "source": [
    "insert() Method:\n",
    "The insert() method is used to add a single element at a specific index within the list. It takes two arguments: the index at which you want to insert the element, and the element itself. All elements after the specified index are shifted to the right to accommodate the new element."
   ]
  },
  {
   "cell_type": "code",
   "execution_count": 22,
   "id": "e163d56f",
   "metadata": {},
   "outputs": [
    {
     "data": {
      "text/plain": [
       "[1, 5, 2, 3]"
      ]
     },
     "execution_count": 22,
     "metadata": {},
     "output_type": "execute_result"
    }
   ],
   "source": [
    "my_list = [1, 2, 3]\n",
    "my_list.insert(1, 5)\n",
    "my_list"
   ]
  },
  {
   "cell_type": "markdown",
   "id": "830c78dc",
   "metadata": {},
   "source": [
    "# 11. What are the two methods for removing items from a list?"
   ]
  },
  {
   "cell_type": "markdown",
   "id": "0ef66667",
   "metadata": {},
   "source": [
    "\n",
    "In Python, there are two common methods for removing items from a list: remove() and pop().\n",
    "\n",
    "remove() Method:\n",
    "The remove() method is used to remove a specific element from a list by specifying the value of the element you want to remove. It searches for the first occurrence of the specified value and removes it from the list."
   ]
  },
  {
   "cell_type": "markdown",
   "id": "7151029d",
   "metadata": {},
   "source": [
    "If the specified value is not found in the list, the remove() method raises a ValueError.\n",
    "\n"
   ]
  },
  {
   "cell_type": "code",
   "execution_count": 24,
   "id": "9cd516ce",
   "metadata": {},
   "outputs": [
    {
     "data": {
      "text/plain": [
       "[1, 3, 2, 4]"
      ]
     },
     "execution_count": 24,
     "metadata": {},
     "output_type": "execute_result"
    }
   ],
   "source": [
    "my_list = [1, 2, 3, 2, 4]\n",
    "my_list.remove(2)\n",
    "my_list"
   ]
  },
  {
   "cell_type": "markdown",
   "id": "ecb06216",
   "metadata": {},
   "source": [
    "pop() Method:\n",
    "The pop() method is used to remove an element from a specific index in the list. It takes an optional index argument (default is -1, which corresponds to the last element) and returns the removed element. The index of the removed element is then closed, and the rest of the elements are shifted accordingly."
   ]
  },
  {
   "cell_type": "markdown",
   "id": "db1ad55b",
   "metadata": {},
   "source": [
    "If no index is provided, pop() removes and returns the last element.\n",
    "\n",
    "Both remove() and pop() modify the original list. The key difference is that remove() uses the element's value to identify which element to remove, while pop() uses the element's index."
   ]
  },
  {
   "cell_type": "code",
   "execution_count": 26,
   "id": "f04895e3",
   "metadata": {},
   "outputs": [
    {
     "data": {
      "text/plain": [
       "[1, 3, 4]"
      ]
     },
     "execution_count": 26,
     "metadata": {},
     "output_type": "execute_result"
    }
   ],
   "source": [
    "my_list = [1, 2, 3, 4]\n",
    "removed_element = my_list.pop(1)\n",
    "my_list"
   ]
  },
  {
   "cell_type": "markdown",
   "id": "cf143fc0",
   "metadata": {},
   "source": [
    "# 12. Describe how list values and string values are identical."
   ]
  },
  {
   "cell_type": "markdown",
   "id": "888bf458",
   "metadata": {},
   "source": [
    "List values and string values in Python share several similarities:\n",
    "\n",
    "Sequential Data: Both lists and strings are sequential data structures. Lists store a sequence of elements, while strings store a sequence of characters.\n",
    "\n",
    "Indexing: Both lists and strings support indexing, allowing you to access individual elements or characters by their position within the sequence. Indexing starts at 0.\n",
    "\n",
    "Slicing: Both lists and strings can be sliced to extract portions of their data using a range of indices.\n",
    "Length: You can find the length of both lists and strings using the len() function.\n",
    "\n",
    "Iteration: Both lists and strings can be iterated over using loops.\n",
    "\n",
    "Concatenation and Replication: Both lists and strings support concatenation (+) and replication (*) operations.\n",
    "\n",
    "However, there are also important differences between lists and strings. Lists are mutable, meaning their elements can be modified after creation, while strings are immutable, meaning their characters cannot be changed after creation. This distinction has significant implications for how you can manipulate these data types in Python."
   ]
  },
  {
   "cell_type": "markdown",
   "id": "5f65664c",
   "metadata": {},
   "source": [
    "# 13.What's the difference between tuples and lists? "
   ]
  },
  {
   "cell_type": "markdown",
   "id": "72de1fc4",
   "metadata": {},
   "source": [
    "Tuples use less memory compared to lists because of their immutability.\n",
    "\n",
    "Lists provide more flexibility due to their mutability, but this also makes them slightly less efficient in terms of memory and performance compared to tuples for certain use cases.\n",
    "\n",
    "If you need to store elements that shouldn't change, or if you want to use unpacking, tuples are a good choice.\n",
    "\n",
    "If you need to perform operations like adding, removing, and modifying elements frequently, lists are a better fit.\n",
    "\n",
    "In summary, the choice between tuples and lists depends on whether you need a mutable or immutable collection and the specific requirements of your code."
   ]
  },
  {
   "cell_type": "markdown",
   "id": "ceabdead",
   "metadata": {},
   "source": [
    "# 14. How do you type a tuple value that only contains the integer 42?"
   ]
  },
  {
   "cell_type": "code",
   "execution_count": 27,
   "id": "25c0afbd",
   "metadata": {},
   "outputs": [
    {
     "data": {
      "text/plain": [
       "(42,)"
      ]
     },
     "execution_count": 27,
     "metadata": {},
     "output_type": "execute_result"
    }
   ],
   "source": [
    "my_tuple = (42,)\n",
    "my_tuple"
   ]
  },
  {
   "cell_type": "markdown",
   "id": "505f228f",
   "metadata": {},
   "source": [
    "a comma , is placed after the single element within the parentheses. This is because the presence of a comma is what differentiates a tuple from just an expression enclosed in parentheses. The trailing comma tells Python that you're creating a tuple with a single element."
   ]
  },
  {
   "cell_type": "markdown",
   "id": "e3e5382b",
   "metadata": {},
   "source": [
    "# 15. How do you get a list value's tuple form? How do you get a tuple value's list form?"
   ]
  },
  {
   "cell_type": "markdown",
   "id": "ba40e3ba",
   "metadata": {},
   "source": [
    "To convert a list to a tuple or a tuple to a list, you can use the built-in tuple() function to convert to a tuple and the built-in list() function to convert to a list.\n",
    "\n",
    "Converting a List to a Tuple:"
   ]
  },
  {
   "cell_type": "markdown",
   "id": "794e99cb",
   "metadata": {},
   "source": [
    "my_list = [1, 2, 3]\n",
    "tuple_form = tuple(my_list)\n",
    "print(tuple_form)  "
   ]
  },
  {
   "cell_type": "markdown",
   "id": "16336434",
   "metadata": {},
   "source": [
    "Converting a Tuple to a List:"
   ]
  },
  {
   "cell_type": "code",
   "execution_count": 29,
   "id": "ef3e688c",
   "metadata": {},
   "outputs": [
    {
     "name": "stdout",
     "output_type": "stream",
     "text": [
      "[4, 5, 6]\n"
     ]
    }
   ],
   "source": [
    "my_tuple = (4, 5, 6)\n",
    "list_form = list(my_tuple)\n",
    "print(list_form) "
   ]
  },
  {
   "cell_type": "markdown",
   "id": "bb81b9b2",
   "metadata": {},
   "source": [
    "# 16. Variables that \"contain\"list values are not necessarily lists themselves. Instead, what do they contain?"
   ]
  },
  {
   "cell_type": "markdown",
   "id": "6d22073c",
   "metadata": {},
   "source": [
    "Variables that \"contain\" list values actually store references to those list objects, not the lists themselves. This concept applies to all mutable objects in Python, not just lists. When you assign a list to a variable, you're storing a reference to the memory location where the list's contents are stored.\n",
    "\n",
    "Let's illustrate this with an example:"
   ]
  },
  {
   "cell_type": "code",
   "execution_count": 30,
   "id": "5d13f995",
   "metadata": {},
   "outputs": [
    {
     "name": "stdout",
     "output_type": "stream",
     "text": [
      "[99, 2, 3]\n"
     ]
    }
   ],
   "source": [
    "list_a = [1, 2, 3]\n",
    "list_b = list_a\n",
    "\n",
    "list_a[0] = 99\n",
    "\n",
    "print(list_b)  \n"
   ]
  },
  {
   "cell_type": "markdown",
   "id": "d9e719ab",
   "metadata": {},
   "source": [
    "In the above example, list_b is assigned the reference of list_a, not a separate copy of the list. This means that modifying the contents of list_a also affects list_b, since they both point to the same list in memory.\n",
    "\n",
    "The distinction between \"reference\" and \"value\" is important in Python. Immutable objects like integers, floats, strings, and tuples are treated as values. When you assign one of these types to another variable, you create a new copy of the value. However, mutable objects like lists, dictionaries, and custom objects are treated as references. Assigning a mutable object to a variable does not copy the object; instead, it copies the reference to the object's memory location. Therefore, changes to the object through one variable will be reflected when accessed through another variable that references the same object."
   ]
  },
  {
   "cell_type": "markdown",
   "id": "e7f371d5",
   "metadata": {},
   "source": [
    "# 17. How do you distinguish between copy.copy() and copy.deepcopy()?"
   ]
  },
  {
   "cell_type": "markdown",
   "id": "94f8c731",
   "metadata": {},
   "source": [
    "In summary, copy.copy() creates a shallow copy that shares nested objects with the original, while copy.deepcopy() creates a complete independent copy with its own separate set of nested objects. Use copy.copy() when you only need a new outer structure but can share nested objects, and use copy.deepcopy() when you need a fully isolated copy, especially if the original object contains complex nested structures. Keep in mind that deep copying can be more resource-intensive, so use it judiciously.\n",
    "\n",
    "\n",
    "\n",
    "\n"
   ]
  },
  {
   "cell_type": "code",
   "execution_count": null,
   "id": "1c438d7b",
   "metadata": {},
   "outputs": [],
   "source": []
  }
 ],
 "metadata": {
  "kernelspec": {
   "display_name": "Python 3 (ipykernel)",
   "language": "python",
   "name": "python3"
  },
  "language_info": {
   "codemirror_mode": {
    "name": "ipython",
    "version": 3
   },
   "file_extension": ".py",
   "mimetype": "text/x-python",
   "name": "python",
   "nbconvert_exporter": "python",
   "pygments_lexer": "ipython3",
   "version": "3.11.4"
  }
 },
 "nbformat": 4,
 "nbformat_minor": 5
}
