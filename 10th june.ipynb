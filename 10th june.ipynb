{
 "cells": [
  {
   "cell_type": "markdown",
   "id": "22edb6f4",
   "metadata": {},
   "source": [
    "# 1. In Python, what is the difference between a built-in function and a user-defined function? Provide an example of each."
   ]
  },
  {
   "cell_type": "markdown",
   "id": "62c340ab",
   "metadata": {},
   "source": [
    "In Python, the main difference between a built-in function and a user-defined function lies in their origins and usage:\n",
    "\n",
    "1. **Built-in Function**:\n",
    "   - Built-in functions are functions that are provided by the Python programming language itself. They are part of Python's standard library and can be used without the need for additional imports.\n",
    "   - These functions perform a wide range of common and essential tasks and operations, making them readily available for use in any Python program.\n",
    "   - Examples of built-in functions include `print()`, `len()`, `max()`, `min()`, `str()`, `int()`, and many more.\n",
    "\n",
    "  \n"
   ]
  },
  {
   "cell_type": "code",
   "execution_count": 2,
   "id": "94c773c6",
   "metadata": {},
   "outputs": [
    {
     "name": "stdout",
     "output_type": "stream",
     "text": [
      "5\n"
     ]
    }
   ],
   "source": [
    "my_list = [1, 2, 3, 4, 5]\n",
    "length = len(my_list)  # Using the built-in len() function\n",
    "print(length)  # Output: 5\n"
   ]
  },
  {
   "cell_type": "markdown",
   "id": "27f669a4",
   "metadata": {},
   "source": [
    "\n",
    "\n",
    "2. **User-Defined Function**:\n",
    "   - User-defined functions are functions that are defined by the programmer (user) to perform specific tasks or operations as needed for a particular program.\n",
    "   - These functions are created using the `def` keyword, followed by the function name, a parameter list (if any), and a block of code that defines what the function should do.\n",
    "   - User-defined functions allow for code modularity and reusability, as they can be called multiple times within a program.\n",
    "\n",
    "  \n"
   ]
  },
  {
   "cell_type": "code",
   "execution_count": 3,
   "id": "a2782233",
   "metadata": {},
   "outputs": [
    {
     "name": "stdout",
     "output_type": "stream",
     "text": [
      "25\n"
     ]
    }
   ],
   "source": [
    "# Define a user-defined function to calculate the square of a number\n",
    "def square(number):\n",
    "    return number ** 2\n",
    "\n",
    "# Use the user-defined function\n",
    "result = square(5)\n",
    "print(result)  # Output: 25\n"
   ]
  },
  {
   "cell_type": "markdown",
   "id": "872597dc",
   "metadata": {},
   "source": [
    "# 2. How can you pass arguments to a function in Python? Explain the difference between positional arguments and keyword arguments."
   ]
  },
  {
   "cell_type": "markdown",
   "id": "5743090a",
   "metadata": {},
   "source": [
    "In Python, you can pass arguments to a function in two primary ways: positional arguments and keyword arguments. These methods allow you to provide input values to a function so that it can perform its operations.\n",
    "\n",
    "1. **Positional Arguments**:\n",
    "   - Positional arguments are the most common way to pass arguments to a function. They are matched to the function's parameters based on their position or order.\n",
    "   - When you call a function and pass arguments as positional arguments, the values are assigned to the function parameters in the order they appear in the function's parameter list.\n",
    "   - Positional arguments are appropriate when the order of arguments is clear and unambiguous.\n",
    "\n",
    "  "
   ]
  },
  {
   "cell_type": "code",
   "execution_count": 4,
   "id": "04d56135",
   "metadata": {},
   "outputs": [
    {
     "name": "stdout",
     "output_type": "stream",
     "text": [
      "5\n"
     ]
    }
   ],
   "source": [
    "def add(a, b):\n",
    "    return a + b\n",
    "\n",
    "result = add(2, 3)  # 2 is assigned to 'a', and 3 is assigned to 'b'\n",
    "print(result)  # Output: 5\n"
   ]
  },
  {
   "cell_type": "markdown",
   "id": "00432220",
   "metadata": {},
   "source": [
    "2. **Keyword Arguments**:\n",
    "   - Keyword arguments allow you to pass arguments to a function by specifying the parameter names along with the values. This method makes the code more readable and helps avoid confusion when the function has many parameters.\n",
    "   - When you use keyword arguments, the order of the arguments doesn't matter as long as you specify the parameter names.\n",
    "\n",
    "  "
   ]
  },
  {
   "cell_type": "code",
   "execution_count": 5,
   "id": "e3ccbf37",
   "metadata": {},
   "outputs": [
    {
     "name": "stdout",
     "output_type": "stream",
     "text": [
      "2\n"
     ]
    }
   ],
   "source": [
    "def subtract(x, y):\n",
    "    return x - y\n",
    "\n",
    "result = subtract(y=3, x=5)  # Keyword arguments: 'x' and 'y'\n",
    "print(result)  # Output: 2\n"
   ]
  },
  {
   "cell_type": "markdown",
   "id": "c02bcb5a",
   "metadata": {},
   "source": [
    "# 3. What is the purpose of the return statement in a function? Can a function have multiple return statements? Explain with an example."
   ]
  },
  {
   "cell_type": "markdown",
   "id": "b3c6dec4",
   "metadata": {},
   "source": [
    "The `return` statement in a function serves the purpose of specifying the value(s) that the function should return when it is called. It allows a function to compute a result and pass that result back to the caller of the function. The `return` statement effectively ends the function's execution and sends the value back to the point where the function was called.\n",
    "\n",
    "Key points about the `return` statement:\n",
    "\n",
    "1. **Value Return**: A `return` statement can return a single value or multiple values (as a tuple, list, or any other data structure). The returned value(s) can be of any data type, including integers, strings, lists, dictionaries, or custom objects.\n",
    "\n",
    "2. **Exit Function**: When a `return` statement is encountered within a function, the function immediately exits, and control is returned to the caller, along with the specified return value(s).\n",
    "\n",
    "3. **Optional**: Not all functions require a `return` statement. Some functions may perform actions or computations without returning a value. In such cases, the function implicitly returns `None`.\n",
    "\n"
   ]
  },
  {
   "cell_type": "code",
   "execution_count": 6,
   "id": "06272f8b",
   "metadata": {},
   "outputs": [
    {
     "name": "stdout",
     "output_type": "stream",
     "text": [
      "Even\n",
      "Odd\n"
     ]
    }
   ],
   "source": [
    "def check_even_odd(number):\n",
    "    if number % 2 == 0:\n",
    "        return \"Even\"\n",
    "    else:\n",
    "        return \"Odd\"\n",
    "\n",
    "result1 = check_even_odd(4)  # Result: \"Even\"\n",
    "result2 = check_even_odd(7)  # Result: \"Odd\"\n",
    "\n",
    "print(result1)\n",
    "print(result2)\n"
   ]
  },
  {
   "cell_type": "markdown",
   "id": "c3c474a2",
   "metadata": {},
   "source": [
    "# 4. What are lambda functions in Python? How are they different from regular functions? Provide an example where a lambda function can be useful."
   ]
  },
  {
   "cell_type": "markdown",
   "id": "e16aa6d1",
   "metadata": {},
   "source": [
    "Lambda functions in Python, also known as anonymous functions or lambda expressions, are small, unnamed functions that can have any number of arguments but can only have one expression. They are typically used for short, simple operations that can be defined in a single line of code.\n",
    "\n",
    "Here's the basic syntax of a lambda function:\n",
    "\n",
    "```python\n",
    "lambda arguments: expression\n",
    "```\n",
    "\n",
    "Lambda functions have several characteristics that differentiate them from regular (or named) functions:\n",
    "\n",
    "1. **Anonymous**: Lambda functions are anonymous, meaning they don't have a name. They are defined using the `lambda` keyword and are often used where a small, one-time function is needed.\n",
    "\n",
    "2. **Single Expression**: Lambda functions can only contain a single expression. This expression is evaluated and returned when the lambda function is called.\n",
    "\n",
    "3. **No Statements**: Lambda functions cannot contain statements, such as `if`, `for`, or `while`. They are limited to a single expression.\n",
    "\n",
    "4. **Concise**: Lambda functions are concise and are typically used for short operations. They are not suitable for complex or multi-step computations.\n",
    "\n"
   ]
  },
  {
   "cell_type": "code",
   "execution_count": 8,
   "id": "3b5ca532",
   "metadata": {},
   "outputs": [
    {
     "name": "stdout",
     "output_type": "stream",
     "text": [
      "[15, 5, 10, 27, 12, 8, 18]\n"
     ]
    }
   ],
   "source": [
    "numbers = [15, 8, 27, 12, 5, 18, 10]\n",
    "\n",
    "# Sort the numbers based on their remainder when divided by 5\n",
    "sorted_numbers = sorted(numbers, key=lambda x: x % 5)\n",
    "\n",
    "print(sorted_numbers)\n"
   ]
  },
  {
   "cell_type": "markdown",
   "id": "2e821a06",
   "metadata": {},
   "source": [
    "# 5. How does the concept of \"scope\" apply to functions in Python? Explain the difference between local scope and global scope."
   ]
  },
  {
   "cell_type": "markdown",
   "id": "f093ff21",
   "metadata": {},
   "source": [
    "In Python, \"scope\" refers to the region of the program where a particular variable or identifier is accessible and can be used. Python has different levels of scope, with the two main ones being local scope and global scope.\n",
    "\n",
    "1. **Local Scope**:\n",
    "   - Local scope refers to the innermost level of scope within Python.\n",
    "   - Variables defined inside a function are said to have local scope. These variables are only accessible within the function where they are defined.\n",
    "   - Local variables are temporary and are created when the function is called, and they cease to exist when the function completes execution.\n",
    "   - They are not visible or accessible from outside the function.\n",
    "\n",
    "\n",
    "\n",
    "2. **Global Scope**:\n",
    "   - Global scope refers to the outermost level of scope within Python.\n",
    "   - Variables defined outside of any function, at the top level of a script or module, are said to have global scope. These variables are accessible from anywhere in the code.\n",
    "   - Global variables persist throughout the program's execution and are not limited to the lifetime of a specific function.\n",
    "\n",
    " \n",
    "3. **Local vs. Global Scope**:\n",
    "   - Local variables take precedence over global variables when there is a naming conflict. If a variable with the same name exists both locally and globally, the local variable will be used within the function.\n",
    "   - Global variables are accessible from within functions, but modifying a global variable from within a function (without using the `global` keyword) creates a new local variable with the same name instead of modifying the global variable.\n",
    "\n",
    "\n",
    "\n",
    "In summary, scope defines where variables can be accessed and modified in Python. Local scope is limited to the function in which variables are defined, while global scope allows variables to be accessed from anywhere in the code. Understanding scope is crucial for variable management and avoiding naming conflicts in your Python programs."
   ]
  },
  {
   "cell_type": "markdown",
   "id": "7f324638",
   "metadata": {},
   "source": [
    "# 6. How can you use the \"return\" statement in a Python function to return multiple values?"
   ]
  },
  {
   "cell_type": "code",
   "execution_count": 11,
   "id": "a6bee1d3",
   "metadata": {},
   "outputs": [
    {
     "name": "stdout",
     "output_type": "stream",
     "text": [
      "10 20 30\n"
     ]
    }
   ],
   "source": [
    "def multiple_values():\n",
    "    x = 10\n",
    "    y = 20\n",
    "    z = 30\n",
    "    return x, y, z  # Returns a tuple\n",
    "\n",
    "result = multiple_values()\n",
    "a, b, c = result  # Unpack the tuple\n",
    "print(a, b, c)  # Output: 10 20 30\n"
   ]
  },
  {
   "cell_type": "code",
   "execution_count": 14,
   "id": "88b36291",
   "metadata": {},
   "outputs": [
    {
     "name": "stdout",
     "output_type": "stream",
     "text": [
      "10\n"
     ]
    }
   ],
   "source": [
    "def multiple_values():\n",
    "    x = 10\n",
    "    y = 20\n",
    "    z = 30\n",
    "    return x  # Returns 10\n",
    "    return y  # This line is not reached\n",
    "    return z  # This line is not reached\n",
    "\n",
    "result = multiple_values()\n",
    "print(result)  # Output: 10\n"
   ]
  },
  {
   "cell_type": "code",
   "execution_count": 15,
   "id": "1163fd81",
   "metadata": {},
   "outputs": [
    {
     "name": "stdout",
     "output_type": "stream",
     "text": [
      "10 20 30\n"
     ]
    }
   ],
   "source": [
    "def multiple_values():\n",
    "    x = 10\n",
    "    y = 20\n",
    "    z = 30\n",
    "    return {'a': x, 'b': y, 'c': z}  # Returns a dictionary\n",
    "\n",
    "result = multiple_values()\n",
    "a = result['a']\n",
    "b = result['b']\n",
    "c = result['c']\n",
    "print(a, b, c)  # Output: 10 20 30\n"
   ]
  },
  {
   "cell_type": "code",
   "execution_count": 16,
   "id": "3620b479",
   "metadata": {},
   "outputs": [
    {
     "name": "stdout",
     "output_type": "stream",
     "text": [
      "10 20 30\n"
     ]
    }
   ],
   "source": [
    "def multiple_values():\n",
    "    x = 10\n",
    "    y = 20\n",
    "    z = 30\n",
    "    return [x, y, z]  # Returns a list\n",
    "\n",
    "result = multiple_values()\n",
    "a, b, c = result  # Unpack the list\n",
    "print(a, b, c)  # Output: 10 20 30\n"
   ]
  },
  {
   "cell_type": "markdown",
   "id": "6cb38310",
   "metadata": {},
   "source": [
    "# 7. What is the difference between the \"pass by value\" and \"pass by reference\" concepts when it comes to function arguments in Python?"
   ]
  },
  {
   "cell_type": "markdown",
   "id": "b8e495ad",
   "metadata": {},
   "source": [
    "Pass by Object Reference (Python):\n",
    "\n",
    "In Python, arguments are passed by object reference. When you pass an object (which includes most data types like lists, dictionaries, and custom objects) to a function, you are passing a reference to the same object.\n",
    "Changes made to mutable objects (like lists) inside the function can affect the original object, but assigning a new value to the parameter inside the function does not affect the original variable."
   ]
  },
  {
   "cell_type": "code",
   "execution_count": 19,
   "id": "6a894ced",
   "metadata": {},
   "outputs": [
    {
     "name": "stdout",
     "output_type": "stream",
     "text": [
      "[4, 5, 6, 10]\n",
      "[4, 5, 6]\n"
     ]
    }
   ],
   "source": [
    "def modify_reference(data):\n",
    "    data.append(10)  # Modifies the original list\n",
    "\n",
    "def assign_new_value(data):\n",
    "    data = [1, 2, 3]  # Does not modify the original list\n",
    "\n",
    "my_list = [4, 5, 6]\n",
    "modify_reference(my_list)\n",
    "print(my_list)  # Output: [4, 5, 6, 10]\n",
    "\n",
    "my_list = [4, 5, 6]\n",
    "assign_new_value(my_list)\n",
    "print(my_list)  # Output: [4, 5, 6]\n"
   ]
  },
  {
   "cell_type": "markdown",
   "id": "04f68b86",
   "metadata": {},
   "source": [
    "# 8. Create a function that can intake integer or decimal value and do following operations:\n",
    "a. Logarithmic function (log x)\n",
    "b. Exponential function (exp(x))\n",
    "c. Power function with base 2 (2x)\n",
    "d. Square root"
   ]
  },
  {
   "cell_type": "code",
   "execution_count": 20,
   "id": "9c2646b4",
   "metadata": {},
   "outputs": [
    {
     "name": "stdout",
     "output_type": "stream",
     "text": [
      "For integer 4:\n",
      "Logarithmic function (log x): 1.3862943611198906\n",
      "Exponential function (exp(x)): 54.598150033144236\n",
      "Power function with base 2 (2^x): 16\n",
      "Square root: 2.0\n",
      "\n",
      "For decimal 2.5:\n",
      "Logarithmic function (log x): 0.9162907318741551\n",
      "Exponential function (exp(x)): 12.182493960703473\n",
      "Power function with base 2 (2^x): 5.656854249492381\n",
      "Square root: 1.5811388300841898\n"
     ]
    }
   ],
   "source": [
    "import math\n",
    "\n",
    "def math_operations(input_value):\n",
    "    # Logarithmic function (log x)\n",
    "    logarithm_result = math.log(input_value)\n",
    "\n",
    "    # Exponential function (exp(x))\n",
    "    exponential_result = math.exp(input_value)\n",
    "\n",
    "    # Power function with base 2 (2^x)\n",
    "    power_of_two_result = 2 ** input_value\n",
    "\n",
    "    # Square root\n",
    "    square_root_result = math.sqrt(input_value)\n",
    "\n",
    "    return logarithm_result, exponential_result, power_of_two_result, square_root_result\n",
    "\n",
    "# Test the function with an integer and a decimal value\n",
    "integer_result = math_operations(4)     # For integer 4\n",
    "decimal_result = math_operations(2.5)   # For decimal 2.5\n",
    "\n",
    "print(\"For integer 4:\")\n",
    "print(\"Logarithmic function (log x):\", integer_result[0])\n",
    "print(\"Exponential function (exp(x)):\", integer_result[1])\n",
    "print(\"Power function with base 2 (2^x):\", integer_result[2])\n",
    "print(\"Square root:\", integer_result[3])\n",
    "\n",
    "print(\"\\nFor decimal 2.5:\")\n",
    "print(\"Logarithmic function (log x):\", decimal_result[0])\n",
    "print(\"Exponential function (exp(x)):\", decimal_result[1])\n",
    "print(\"Power function with base 2 (2^x):\", decimal_result[2])\n",
    "print(\"Square root:\", decimal_result[3])\n"
   ]
  },
  {
   "cell_type": "markdown",
   "id": "12672610",
   "metadata": {},
   "source": [
    "# 9. Create a function that takes a full name as an argument and returns first name and last name."
   ]
  },
  {
   "cell_type": "code",
   "execution_count": 21,
   "id": "d127bb86",
   "metadata": {},
   "outputs": [
    {
     "name": "stdout",
     "output_type": "stream",
     "text": [
      "Full Name 1: John Doe\n",
      "First Name 1: John\n",
      "Last Name 1: Doe\n",
      "\n",
      "Full Name 2: Alice\n",
      "First Name 2: Alice\n",
      "Last Name 2: \n",
      "\n",
      "Full Name 3: John Michael Smith\n",
      "First Name 3: John\n",
      "Last Name 3: Smith\n"
     ]
    }
   ],
   "source": [
    "def extract_first_last_name(full_name):\n",
    "    # Split the full name into words\n",
    "    name_parts = full_name.split()\n",
    "\n",
    "    # Check if there are at least two parts (first name and last name)\n",
    "    if len(name_parts) >= 2:\n",
    "        first_name = name_parts[0]\n",
    "        last_name = name_parts[-1]  # Get the last word as the last name\n",
    "    else:\n",
    "        # If there are not enough parts, assume the entire input as the first name\n",
    "        first_name = full_name\n",
    "        last_name = \"\"\n",
    "\n",
    "    return first_name, last_name\n",
    "\n",
    "# Test the function\n",
    "full_name1 = \"John Doe\"\n",
    "full_name2 = \"Alice\"\n",
    "full_name3 = \"John Michael Smith\"\n",
    "\n",
    "first1, last1 = extract_first_last_name(full_name1)\n",
    "first2, last2 = extract_first_last_name(full_name2)\n",
    "first3, last3 = extract_first_last_name(full_name3)\n",
    "\n",
    "print(\"Full Name 1:\", full_name1)\n",
    "print(\"First Name 1:\", first1)\n",
    "print(\"Last Name 1:\", last1)\n",
    "\n",
    "print(\"\\nFull Name 2:\", full_name2)\n",
    "print(\"First Name 2:\", first2)\n",
    "print(\"Last Name 2:\", last2)\n",
    "\n",
    "print(\"\\nFull Name 3:\", full_name3)\n",
    "print(\"First Name 3:\", first3)\n",
    "print(\"Last Name 3:\", last3)\n"
   ]
  },
  {
   "cell_type": "code",
   "execution_count": null,
   "id": "ccea7b58",
   "metadata": {},
   "outputs": [],
   "source": []
  }
 ],
 "metadata": {
  "kernelspec": {
   "display_name": "Python 3 (ipykernel)",
   "language": "python",
   "name": "python3"
  },
  "language_info": {
   "codemirror_mode": {
    "name": "ipython",
    "version": 3
   },
   "file_extension": ".py",
   "mimetype": "text/x-python",
   "name": "python",
   "nbconvert_exporter": "python",
   "pygments_lexer": "ipython3",
   "version": "3.11.4"
  }
 },
 "nbformat": 4,
 "nbformat_minor": 5
}
