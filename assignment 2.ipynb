{
 "cells": [
  {
   "cell_type": "markdown",
   "id": "d8f22e55",
   "metadata": {},
   "source": [
    "# 1.What are the two values of the Boolean data type? How do you write them?\n",
    "The Boolean data type represents two values: \"true\" and \"false.\" In programming, these values are used to represent binary logic and are often used in conditional statements, loops, and decision-making processes.\n",
    "In most programming languages, you write the Boolean values as follows:\n",
    "True: This represents the true condition or the value 1 in binary logic.\n",
    "In Python, for example\n",
    "my_bool_variable = True\n",
    "False: This represents the false condition or the value 0 in binary logic.\n",
    "In Python,for example\n",
    "my_bool_variable = False\n"
   ]
  },
  {
   "cell_type": "markdown",
   "id": "f397040c",
   "metadata": {},
   "source": [
    "# 2. What are the three different types of Boolean operators?\n",
    "The three different types of Boolean operators are:\n",
    "\n",
    "AND (&& or \"and\"): This operator returns true if both operands are true; otherwise, it returns false. In other words, it performs a logical AND operation on the two operands.\n",
    "\n",
    "Truth table:\n",
    "\n",
    "true  && true   -> true\n",
    "true  && false  -> false\n",
    "false && true  ->  false\n",
    "false && false -> false\n",
    "OR (|| or \"or\"): This operator returns true if at least one of the operands is true; otherwise, it returns false. In other words, it performs a logical OR operation on the two operands.\n",
    "\n",
    "Truth table:\n",
    "\n",
    "true  || true   -> true\n",
    "true  || false  -> true\n",
    "false || true  -> true\n",
    "false || false -> false\n",
    "NOT (! or \"not\"): This operator is a unary operator and takes only one operand. It returns the opposite of the operand's value. If the operand is true, it returns false, and if the operand is false, it returns true.\n",
    "\n",
    "Truth table:\n",
    "\n",
    "!true  -> false\n",
    "!false -> true\n",
    "Boolean operators are commonly used in programming to combine conditions, create complex expressions, and make decisions based on multiple conditions. They are an essential part of logical operations and control flow in programming."
   ]
  },
  {
   "cell_type": "markdown",
   "id": "b6a6ccda",
   "metadata": {},
   "source": [
    "# Make a list of each Boolean operator's truth tables (i.e. every possible combination of Boolean values for the operator and what it evaluate ).\n",
    "AND truth table:\n",
    "true && true   -> true\n",
    "true && false  -> false\n",
    "false && true  -> false\n",
    "false && false -> false\n",
    " \n",
    "OR truth table\n",
    "true || true   -> true\n",
    "true || false  -> true\n",
    "false || true  -> true\n",
    "false || false -> false\n",
    "\n",
    "NOT truth table\n",
    "!true  -> false\n",
    "!false -> true\n"
   ]
  },
  {
   "cell_type": "markdown",
   "id": "c7cd53b7",
   "metadata": {},
   "source": [
    "# 4.What are the values of the following expressions?\n"
   ]
  },
  {
   "cell_type": "code",
   "execution_count": 8,
   "id": "a73a1031",
   "metadata": {},
   "outputs": [
    {
     "name": "stdout",
     "output_type": "stream",
     "text": [
      "False False True False False True\n"
     ]
    }
   ],
   "source": [
    "a=(5 > 4) and (3 == 5)\n",
    "b=not (5 > 4)\n",
    "c=(5 > 4) or (3 == 5)\n",
    "d=not ((5 > 4) or (3 == 5))\n",
    "e=(True and True) and (True == False)\n",
    "f=(not False) or (not True)\n",
    "print(a,b,c,d,e,f)"
   ]
  },
  {
   "cell_type": "markdown",
   "id": "94c161da",
   "metadata": {},
   "source": [
    "# 5. What are the six comparison operators?\n",
    "The six comparison operators are used to compare values and expressions and return a Boolean result (true or false) based on the comparison. Here are the six comparison operators:\n",
    "\n",
    "Equal to (==): This operator checks if the values on both sides of the operator are equal.\n",
    "\n",
    "Not equal to (!=): This operator checks if the values on both sides of the operator are not equal.\n",
    "\n",
    "Less than (<): This operator checks if the value on the left side is less than the value on the right side.\n",
    "\n",
    "Less than or equal to (<=): This operator checks if the value on the left side is less than or equal to the value on the right side\n",
    "\n",
    "Greater than (>): This operator checks if the value on the left side is greater than the value on the right side.\n",
    "\n",
    "Greater than or equal to (>=): This operator checks if the value on the left side is greater than or equal to the value on the right side."
   ]
  },
  {
   "cell_type": "markdown",
   "id": "7181fc94",
   "metadata": {},
   "source": [
    "# 6. How do you tell the difference between the equal to and assignment operators?Describe a condition and when you would use one.\n",
    "\n",
    "Assignment operator (=):\n",
    "The assignment operator is used to assign a value to a variable. It takes the value on the right side and assigns it to the variable on the left side\n",
    "\n",
    "Equal to operator (==):\n",
    "The equal to operator is used to compare two values or expressions to check if they are equal. It returns a Boolean value (true or false) based on the result of the comparison\n",
    "\n",
    "example:"
   ]
  },
  {
   "cell_type": "code",
   "execution_count": 9,
   "id": "9a699a29",
   "metadata": {},
   "outputs": [
    {
     "name": "stdout",
     "output_type": "stream",
     "text": [
      "You are not yet of legal age.\n"
     ]
    }
   ],
   "source": [
    "user_age = 25\n",
    "legal_age = 18\n",
    "\n",
    "if user_age == legal_age:\n",
    "    print(\"You are of legal age.\")\n",
    "else:\n",
    "    print(\"You are not yet of legal age.\")"
   ]
  },
  {
   "cell_type": "markdown",
   "id": "31d81be0",
   "metadata": {},
   "source": [
    "In this condition, we use the equal to operator to check if the user_age variable is equal to the legal_age variable. Depending on the result, we can determine whether the user is of legal age or not"
   ]
  },
  {
   "cell_type": "markdown",
   "id": "08f01875",
   "metadata": {},
   "source": [
    "# 7. Identify the three blocks in this code"
   ]
  },
  {
   "cell_type": "code",
   "execution_count": 10,
   "id": "280ebb50",
   "metadata": {},
   "outputs": [
    {
     "name": "stdout",
     "output_type": "stream",
     "text": [
      "ham\n",
      "spam\n",
      "spam\n"
     ]
    }
   ],
   "source": [
    "#1st block:\n",
    "spam = 0\n",
    "if spam == 10:\n",
    "    print('eggs')\n",
    "#2nd block:\n",
    "if spam > 5:\n",
    "    print('bacon')\n",
    "#3rd block:\n",
    "else:\n",
    "    print('ham')\n",
    "print('spam')\n",
    "print('spam')"
   ]
  },
  {
   "cell_type": "markdown",
   "id": "537a051b",
   "metadata": {},
   "source": [
    "# 8. Write code that prints Hello if 1 is stored in spam, prints Howdy if 2 is stored in spam, and prints,Greetings! if anything else is stored in spam."
   ]
  },
  {
   "cell_type": "code",
   "execution_count": 13,
   "id": "7efd4900",
   "metadata": {},
   "outputs": [
    {
     "name": "stdout",
     "output_type": "stream",
     "text": [
      "Enter any value for spam: 2\n",
      "Howdy\n"
     ]
    }
   ],
   "source": [
    "spam=int(input(\"Enter any value for spam: \"))\n",
    "if(spam==1):\n",
    "    print(\"Hello\")\n",
    "elif(spam==2):\n",
    "    print(\"Howdy\")\n",
    "else:\n",
    "    print(\"Greetings\")"
   ]
  },
  {
   "cell_type": "markdown",
   "id": "a0cbe54c",
   "metadata": {},
   "source": [
    "# 9.If your programme is stuck in an endless loop, what keys you’ll press?"
   ]
  },
  {
   "cell_type": "markdown",
   "id": "cec3bfb3",
   "metadata": {},
   "source": [
    "Ctrl + C (Windows/Linux): Pressing Ctrl and C keys simultaneously will send a KeyboardInterrupt signal to the running program, forcing it to terminate. This is the most common way to interrupt a program running in a terminal or command prompt."
   ]
  },
  {
   "cell_type": "markdown",
   "id": "d9463686",
   "metadata": {},
   "source": [
    "# 10. How can you tell the difference between break and continue?"
   ]
  },
  {
   "cell_type": "markdown",
   "id": "5f116100",
   "metadata": {},
   "source": [
    "\"break\" statement:\n",
    "\n",
    "When encountered within a loop (such as for loop or while loop), the \"break\" statement immediately terminates the loop's execution.\n",
    "After encountering the \"break\" statement, the control flow moves to the first statement after the loop, effectively exiting the loop prematurely.\n",
    "This statement is useful when you want to stop the loop early based on a specific condition, or when you need to exit a loop when a particular condition is met.\n",
    "Example:"
   ]
  },
  {
   "cell_type": "code",
   "execution_count": 15,
   "id": "7472bdd7",
   "metadata": {},
   "outputs": [
    {
     "name": "stdout",
     "output_type": "stream",
     "text": [
      "1\n",
      "2\n"
     ]
    }
   ],
   "source": [
    "for i in range(1, 6):\n",
    "    if i == 3:\n",
    "        break\n",
    "    print(i)"
   ]
  },
  {
   "cell_type": "markdown",
   "id": "af17e58c",
   "metadata": {},
   "source": [
    "\"continue\" statement:\n",
    "\n",
    "When encountered within a loop, the \"continue\" statement skips the rest of the current iteration and moves to the next iteration of the loop.\n",
    "It allows you to skip certain iterations of the loop based on a particular condition without terminating the entire loop.\n",
    "This statement is helpful when you want to skip specific elements or iterations that meet certain conditions.\n",
    "Example:"
   ]
  },
  {
   "cell_type": "code",
   "execution_count": 16,
   "id": "09c415e0",
   "metadata": {},
   "outputs": [
    {
     "name": "stdout",
     "output_type": "stream",
     "text": [
      "1\n",
      "2\n",
      "4\n",
      "5\n"
     ]
    }
   ],
   "source": [
    "for i in range(1, 6):\n",
    "    if i == 3:\n",
    "        continue\n",
    "    print(i)"
   ]
  },
  {
   "cell_type": "markdown",
   "id": "0a7fc7a4",
   "metadata": {},
   "source": [
    "# 11. In a for loop, what is the difference between range(10), range(0, 10), and range(0, 10, 1)?"
   ]
  },
  {
   "cell_type": "markdown",
   "id": "8fa9b6e2",
   "metadata": {},
   "source": [
    "range(10), range(0, 10), and range(0, 10, 1) are equivalent and generate the same sequence of numbers from 0 to 9 when used in a for loop. The default start value is 0, and the default step value is 1 if not specified explicitly."
   ]
  },
  {
   "cell_type": "code",
   "execution_count": 18,
   "id": "899471be",
   "metadata": {},
   "outputs": [
    {
     "name": "stdout",
     "output_type": "stream",
     "text": [
      "0\n",
      "1\n",
      "2\n",
      "3\n",
      "4\n",
      "5\n",
      "6\n",
      "7\n",
      "8\n",
      "9\n",
      "\n",
      "0\n",
      "1\n",
      "2\n",
      "3\n",
      "4\n",
      "5\n",
      "6\n",
      "7\n",
      "8\n",
      "9\n",
      "\n",
      "0\n",
      "1\n",
      "2\n",
      "3\n",
      "4\n",
      "5\n",
      "6\n",
      "7\n",
      "8\n",
      "9\n",
      "\n"
     ]
    }
   ],
   "source": [
    "for i in range(10):\n",
    "    print(i)\n",
    "print()\n",
    "for i in range(0, 10):\n",
    "    print(i)\n",
    "print()\n",
    "for i in range(0, 10, 1):\n",
    "    print(i)\n",
    "print()"
   ]
  },
  {
   "cell_type": "markdown",
   "id": "94d8470a",
   "metadata": {},
   "source": [
    "# 12. Write a short program that prints the numbers 1 to 10 using a for loop. Then write an equivalentprogram that prints the numbers 1 to 10 using a while loop."
   ]
  },
  {
   "cell_type": "code",
   "execution_count": 19,
   "id": "a5d95a86",
   "metadata": {},
   "outputs": [
    {
     "name": "stdout",
     "output_type": "stream",
     "text": [
      "1\n",
      "2\n",
      "3\n",
      "4\n",
      "5\n",
      "6\n",
      "7\n",
      "8\n",
      "9\n",
      "10\n"
     ]
    }
   ],
   "source": [
    "# Using a for loop\n",
    "for i in range(1, 11):\n",
    "    print(i)"
   ]
  },
  {
   "cell_type": "code",
   "execution_count": 20,
   "id": "14fef25d",
   "metadata": {},
   "outputs": [
    {
     "name": "stdout",
     "output_type": "stream",
     "text": [
      "1\n",
      "2\n",
      "3\n",
      "4\n",
      "5\n",
      "6\n",
      "7\n",
      "8\n",
      "9\n",
      "10\n"
     ]
    }
   ],
   "source": [
    "# Using a while loop\n",
    "i = 1\n",
    "while i <= 10:\n",
    "    print(i)\n",
    "    i += 1"
   ]
  },
  {
   "cell_type": "markdown",
   "id": "783d0837",
   "metadata": {},
   "source": [
    "# 13. If you had a function named bacon() inside a module named spam, how would you call it after importing spam?"
   ]
  },
  {
   "cell_type": "markdown",
   "id": "2d4138ab",
   "metadata": {},
   "source": [
    "#Import the spam module\n",
    "import spam\n",
    "\n",
    "#Call the bacon() function using the dot notation\n",
    "spam.bacon()\n",
    "\n",
    "In the above code, we import the spam module using the import statement. Then, we can call the bacon() function using the dot notation spam.bacon(), where spam is the name of the imported module, and bacon() is the name of the function inside the spam module.\n"
   ]
  },
  {
   "cell_type": "code",
   "execution_count": null,
   "id": "d78b9edd",
   "metadata": {},
   "outputs": [],
   "source": []
  }
 ],
 "metadata": {
  "kernelspec": {
   "display_name": "Python 3 (ipykernel)",
   "language": "python",
   "name": "python3"
  },
  "language_info": {
   "codemirror_mode": {
    "name": "ipython",
    "version": 3
   },
   "file_extension": ".py",
   "mimetype": "text/x-python",
   "name": "python",
   "nbconvert_exporter": "python",
   "pygments_lexer": "ipython3",
   "version": "3.10.9"
  }
 },
 "nbformat": 4,
 "nbformat_minor": 5
}
